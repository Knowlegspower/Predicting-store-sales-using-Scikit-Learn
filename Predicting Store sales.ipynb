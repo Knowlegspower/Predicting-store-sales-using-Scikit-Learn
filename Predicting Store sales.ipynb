{
 "cells": [
  {
   "cell_type": "markdown",
   "metadata": {},
   "source": [
    "# Final Project\n",
    "## Predicting store sales using Scikit-Learn\n",
    "\n",
    "Description: Our program makes predictions and forecasts of probable weekly sales of Walmart stores based on historical data, which is given from 45 different Walmart stores. Our historical data-set has sequential nature, that is, it takes time range from 2010-02-05 to 2012-11-01. Hence, to predict the sales we used bunch of algorithms, which are Linear Regression, MLPregressor, Extra Trees Regressor, and Random Forest Regressor, which all can be found in Scikit-Learn, Also we will identify sales on each department of the stores and affect of markdowns such as holidays on the sales. Machine Learning can help as to identify where is minimum or no correlation between sales and factors given as in data. By applying machine learning and listed algorithms we can achieve our challenge to predict store sales using Scikit-Learn.\n",
    "\n",
    "Mission: to discover a model that will predict sales based on date and store's features\n",
    "\n",
    "Goals:\n",
    "    \n",
    "    1) Explore training dataset\n",
    "    2) Manipulate training dataset\n",
    "    3) Apply CV to training dataset\n",
    "    4) Run chosen algorithms\n",
    "    5) Select hyperparameters\n",
    "    6) Make predictions on testing dataset\n",
    "    \n",
    "Chosen algorithms:\n",
    "    \n",
    "    1) Linear Regression\n",
    "    2) Neural Network (MLPRegressor)\n",
    "    3) Random Forest Regressor\n",
    "    4) Extra Tree Regressor\n",
    "    \n",
    "Team Members:\n",
    "\n",
    "Alisher Mussin\n",
    "\n",
    "Amangeldy Sarsembay\n",
    "\n",
    "Bakdauren Narbayev"
   ]
  },
  {
   "cell_type": "markdown",
   "metadata": {},
   "source": [
    "## 1. Explore training dataset "
   ]
  },
  {
   "cell_type": "code",
   "execution_count": 1,
   "metadata": {},
   "outputs": [],
   "source": [
    "# Importing necessary libraries and methods\n",
    "\n",
    "# Linear Algebra\n",
    "import numpy as np\n",
    "\n",
    "# Data processing\n",
    "import pandas as pd\n",
    "\n",
    "# Visualization\n",
    "import seaborn as sns\n",
    "import matplotlib.pyplot as plt\n",
    "\n",
    "# Algorithms\n",
    "from sklearn.linear_model import LinearRegression\n",
    "from sklearn.ensemble import RandomForestRegressor\n",
    "from sklearn.ensemble import ExtraTreesRegressor\n",
    "from sklearn.neural_network import MLPRegressor\n",
    "\n",
    "# Calculating error\n",
    "from sklearn.metrics import mean_absolute_error\n",
    "\n",
    "# Applying CV\n",
    "from sklearn.model_selection import KFold, GridSearchCV"
   ]
  },
  {
   "cell_type": "code",
   "execution_count": 2,
   "metadata": {},
   "outputs": [
    {
     "data": {
      "text/html": [
       "<div>\n",
       "<style scoped>\n",
       "    .dataframe tbody tr th:only-of-type {\n",
       "        vertical-align: middle;\n",
       "    }\n",
       "\n",
       "    .dataframe tbody tr th {\n",
       "        vertical-align: top;\n",
       "    }\n",
       "\n",
       "    .dataframe thead th {\n",
       "        text-align: right;\n",
       "    }\n",
       "</style>\n",
       "<table border=\"1\" class=\"dataframe\">\n",
       "  <thead>\n",
       "    <tr style=\"text-align: right;\">\n",
       "      <th></th>\n",
       "      <th>Store</th>\n",
       "      <th>Dept</th>\n",
       "      <th>Date</th>\n",
       "      <th>weeklySales</th>\n",
       "      <th>isHoliday</th>\n",
       "      <th>Type</th>\n",
       "      <th>Size</th>\n",
       "      <th>Temperature</th>\n",
       "      <th>Fuel_Price</th>\n",
       "      <th>MarkDown1</th>\n",
       "      <th>MarkDown2</th>\n",
       "      <th>MarkDown3</th>\n",
       "      <th>MarkDown4</th>\n",
       "      <th>MarkDown5</th>\n",
       "      <th>CPI</th>\n",
       "      <th>Unemployment</th>\n",
       "    </tr>\n",
       "  </thead>\n",
       "  <tbody>\n",
       "    <tr>\n",
       "      <th>0</th>\n",
       "      <td>1</td>\n",
       "      <td>1</td>\n",
       "      <td>2010-02-05</td>\n",
       "      <td>24924.50</td>\n",
       "      <td>False</td>\n",
       "      <td>A</td>\n",
       "      <td>151315</td>\n",
       "      <td>42.31</td>\n",
       "      <td>2.572</td>\n",
       "      <td>NaN</td>\n",
       "      <td>NaN</td>\n",
       "      <td>NaN</td>\n",
       "      <td>NaN</td>\n",
       "      <td>NaN</td>\n",
       "      <td>211.096358</td>\n",
       "      <td>8.106</td>\n",
       "    </tr>\n",
       "    <tr>\n",
       "      <th>1</th>\n",
       "      <td>1</td>\n",
       "      <td>1</td>\n",
       "      <td>2010-02-12</td>\n",
       "      <td>46039.49</td>\n",
       "      <td>True</td>\n",
       "      <td>A</td>\n",
       "      <td>151315</td>\n",
       "      <td>38.51</td>\n",
       "      <td>2.548</td>\n",
       "      <td>NaN</td>\n",
       "      <td>NaN</td>\n",
       "      <td>NaN</td>\n",
       "      <td>NaN</td>\n",
       "      <td>NaN</td>\n",
       "      <td>211.242170</td>\n",
       "      <td>8.106</td>\n",
       "    </tr>\n",
       "    <tr>\n",
       "      <th>2</th>\n",
       "      <td>1</td>\n",
       "      <td>1</td>\n",
       "      <td>2010-02-19</td>\n",
       "      <td>41595.55</td>\n",
       "      <td>False</td>\n",
       "      <td>A</td>\n",
       "      <td>151315</td>\n",
       "      <td>39.93</td>\n",
       "      <td>2.514</td>\n",
       "      <td>NaN</td>\n",
       "      <td>NaN</td>\n",
       "      <td>NaN</td>\n",
       "      <td>NaN</td>\n",
       "      <td>NaN</td>\n",
       "      <td>211.289143</td>\n",
       "      <td>8.106</td>\n",
       "    </tr>\n",
       "    <tr>\n",
       "      <th>3</th>\n",
       "      <td>1</td>\n",
       "      <td>1</td>\n",
       "      <td>2010-02-26</td>\n",
       "      <td>19403.54</td>\n",
       "      <td>False</td>\n",
       "      <td>A</td>\n",
       "      <td>151315</td>\n",
       "      <td>46.63</td>\n",
       "      <td>2.561</td>\n",
       "      <td>NaN</td>\n",
       "      <td>NaN</td>\n",
       "      <td>NaN</td>\n",
       "      <td>NaN</td>\n",
       "      <td>NaN</td>\n",
       "      <td>211.319643</td>\n",
       "      <td>8.106</td>\n",
       "    </tr>\n",
       "    <tr>\n",
       "      <th>4</th>\n",
       "      <td>1</td>\n",
       "      <td>1</td>\n",
       "      <td>2010-03-05</td>\n",
       "      <td>21827.90</td>\n",
       "      <td>False</td>\n",
       "      <td>A</td>\n",
       "      <td>151315</td>\n",
       "      <td>46.50</td>\n",
       "      <td>2.625</td>\n",
       "      <td>NaN</td>\n",
       "      <td>NaN</td>\n",
       "      <td>NaN</td>\n",
       "      <td>NaN</td>\n",
       "      <td>NaN</td>\n",
       "      <td>211.350143</td>\n",
       "      <td>8.106</td>\n",
       "    </tr>\n",
       "  </tbody>\n",
       "</table>\n",
       "</div>"
      ],
      "text/plain": [
       "   Store  Dept        Date  weeklySales  isHoliday Type    Size  Temperature  \\\n",
       "0      1     1  2010-02-05     24924.50      False    A  151315        42.31   \n",
       "1      1     1  2010-02-12     46039.49       True    A  151315        38.51   \n",
       "2      1     1  2010-02-19     41595.55      False    A  151315        39.93   \n",
       "3      1     1  2010-02-26     19403.54      False    A  151315        46.63   \n",
       "4      1     1  2010-03-05     21827.90      False    A  151315        46.50   \n",
       "\n",
       "   Fuel_Price  MarkDown1  MarkDown2  MarkDown3  MarkDown4  MarkDown5  \\\n",
       "0       2.572        NaN        NaN        NaN        NaN        NaN   \n",
       "1       2.548        NaN        NaN        NaN        NaN        NaN   \n",
       "2       2.514        NaN        NaN        NaN        NaN        NaN   \n",
       "3       2.561        NaN        NaN        NaN        NaN        NaN   \n",
       "4       2.625        NaN        NaN        NaN        NaN        NaN   \n",
       "\n",
       "          CPI  Unemployment  \n",
       "0  211.096358         8.106  \n",
       "1  211.242170         8.106  \n",
       "2  211.289143         8.106  \n",
       "3  211.319643         8.106  \n",
       "4  211.350143         8.106  "
      ]
     },
     "execution_count": 2,
     "metadata": {},
     "output_type": "execute_result"
    }
   ],
   "source": [
    "# Showing the data\n",
    "dataset = pd.read_csv(\"train.csv\", names=['Store','Dept','Date','weeklySales','isHoliday'], sep=',', header=0)\n",
    "stores = pd.read_csv(\"stores.csv\", names=['Store','Type','Size'], sep=',', header=0)\n",
    "\n",
    "# Dropping repeated column 'IsHoliday'\n",
    "features = pd.read_csv(\"features.csv\", names=['Store','Date','Temperature','Fuel_Price','MarkDown1','MarkDown2','MarkDown3','MarkDown4',\n",
    "                              'MarkDown5','CPI','Unemployment','IsHoliday'], sep=',', header=0).drop(columns=['IsHoliday'])\n",
    "\n",
    "# Merging 3 csv files into one dataset\n",
    "dataset = dataset.merge(stores, how='left').merge(features, how='left')\n",
    "\n",
    "dataset.head()"
   ]
  },
  {
   "cell_type": "code",
   "execution_count": 3,
   "metadata": {},
   "outputs": [
    {
     "data": {
      "image/png": "[encoded data removed]",
      "text/plain": [
       "<Figure size 432x288 with 2 Axes>"
      ]
     },
     "metadata": {
      "needs_background": "light"
     },
     "output_type": "display_data"
    }
   ],
   "source": [
    "# Visualize correlation of features in our dataset\n",
    "corrMatrix = dataset.corr()\n",
    "sns.heatmap(corrMatrix)\n",
    "plt.show()"
   ]
  },
  {
   "cell_type": "markdown",
   "metadata": {},
   "source": [
    "It seems that Date and Type is missing here.\n",
    "\n",
    "So we need some preprocessing to explore our data again.\n",
    "\n",
    "## 2. Manipulate training dataset"
   ]
  },
  {
   "cell_type": "code",
   "execution_count": 4,
   "metadata": {},
   "outputs": [
    {
     "data": {
      "text/html": [
       "<div>\n",
       "<style scoped>\n",
       "    .dataframe tbody tr th:only-of-type {\n",
       "        vertical-align: middle;\n",
       "    }\n",
       "\n",
       "    .dataframe tbody tr th {\n",
       "        vertical-align: top;\n",
       "    }\n",
       "\n",
       "    .dataframe thead th {\n",
       "        text-align: right;\n",
       "    }\n",
       "</style>\n",
       "<table border=\"1\" class=\"dataframe\">\n",
       "  <thead>\n",
       "    <tr style=\"text-align: right;\">\n",
       "      <th></th>\n",
       "      <th>Store</th>\n",
       "      <th>Dept</th>\n",
       "      <th>weeklySales</th>\n",
       "      <th>isHoliday</th>\n",
       "      <th>Size</th>\n",
       "      <th>Temperature</th>\n",
       "      <th>Fuel_Price</th>\n",
       "      <th>MarkDown1</th>\n",
       "      <th>MarkDown2</th>\n",
       "      <th>MarkDown3</th>\n",
       "      <th>MarkDown4</th>\n",
       "      <th>MarkDown5</th>\n",
       "      <th>CPI</th>\n",
       "      <th>Unemployment</th>\n",
       "      <th>Type_A</th>\n",
       "      <th>Type_B</th>\n",
       "      <th>Type_C</th>\n",
       "      <th>Day</th>\n",
       "      <th>Month</th>\n",
       "      <th>Year</th>\n",
       "    </tr>\n",
       "  </thead>\n",
       "  <tbody>\n",
       "    <tr>\n",
       "      <th>0</th>\n",
       "      <td>1</td>\n",
       "      <td>1</td>\n",
       "      <td>24924.50</td>\n",
       "      <td>False</td>\n",
       "      <td>151315</td>\n",
       "      <td>42.31</td>\n",
       "      <td>2.572</td>\n",
       "      <td>0.0</td>\n",
       "      <td>0.0</td>\n",
       "      <td>0.0</td>\n",
       "      <td>0.0</td>\n",
       "      <td>0.0</td>\n",
       "      <td>211.096358</td>\n",
       "      <td>8.106</td>\n",
       "      <td>1</td>\n",
       "      <td>0</td>\n",
       "      <td>0</td>\n",
       "      <td>5</td>\n",
       "      <td>2</td>\n",
       "      <td>2010</td>\n",
       "    </tr>\n",
       "    <tr>\n",
       "      <th>1</th>\n",
       "      <td>1</td>\n",
       "      <td>1</td>\n",
       "      <td>46039.49</td>\n",
       "      <td>True</td>\n",
       "      <td>151315</td>\n",
       "      <td>38.51</td>\n",
       "      <td>2.548</td>\n",
       "      <td>0.0</td>\n",
       "      <td>0.0</td>\n",
       "      <td>0.0</td>\n",
       "      <td>0.0</td>\n",
       "      <td>0.0</td>\n",
       "      <td>211.242170</td>\n",
       "      <td>8.106</td>\n",
       "      <td>1</td>\n",
       "      <td>0</td>\n",
       "      <td>0</td>\n",
       "      <td>12</td>\n",
       "      <td>2</td>\n",
       "      <td>2010</td>\n",
       "    </tr>\n",
       "    <tr>\n",
       "      <th>2</th>\n",
       "      <td>1</td>\n",
       "      <td>1</td>\n",
       "      <td>41595.55</td>\n",
       "      <td>False</td>\n",
       "      <td>151315</td>\n",
       "      <td>39.93</td>\n",
       "      <td>2.514</td>\n",
       "      <td>0.0</td>\n",
       "      <td>0.0</td>\n",
       "      <td>0.0</td>\n",
       "      <td>0.0</td>\n",
       "      <td>0.0</td>\n",
       "      <td>211.289143</td>\n",
       "      <td>8.106</td>\n",
       "      <td>1</td>\n",
       "      <td>0</td>\n",
       "      <td>0</td>\n",
       "      <td>19</td>\n",
       "      <td>2</td>\n",
       "      <td>2010</td>\n",
       "    </tr>\n",
       "    <tr>\n",
       "      <th>3</th>\n",
       "      <td>1</td>\n",
       "      <td>1</td>\n",
       "      <td>19403.54</td>\n",
       "      <td>False</td>\n",
       "      <td>151315</td>\n",
       "      <td>46.63</td>\n",
       "      <td>2.561</td>\n",
       "      <td>0.0</td>\n",
       "      <td>0.0</td>\n",
       "      <td>0.0</td>\n",
       "      <td>0.0</td>\n",
       "      <td>0.0</td>\n",
       "      <td>211.319643</td>\n",
       "      <td>8.106</td>\n",
       "      <td>1</td>\n",
       "      <td>0</td>\n",
       "      <td>0</td>\n",
       "      <td>26</td>\n",
       "      <td>2</td>\n",
       "      <td>2010</td>\n",
       "    </tr>\n",
       "    <tr>\n",
       "      <th>4</th>\n",
       "      <td>1</td>\n",
       "      <td>1</td>\n",
       "      <td>21827.90</td>\n",
       "      <td>False</td>\n",
       "      <td>151315</td>\n",
       "      <td>46.50</td>\n",
       "      <td>2.625</td>\n",
       "      <td>0.0</td>\n",
       "      <td>0.0</td>\n",
       "      <td>0.0</td>\n",
       "      <td>0.0</td>\n",
       "      <td>0.0</td>\n",
       "      <td>211.350143</td>\n",
       "      <td>8.106</td>\n",
       "      <td>1</td>\n",
       "      <td>0</td>\n",
       "      <td>0</td>\n",
       "      <td>5</td>\n",
       "      <td>3</td>\n",
       "      <td>2010</td>\n",
       "    </tr>\n",
       "  </tbody>\n",
       "</table>\n",
       "</div>"
      ],
      "text/plain": [
       "   Store  Dept  weeklySales  isHoliday    Size  Temperature  Fuel_Price  \\\n",
       "0      1     1     24924.50      False  151315        42.31       2.572   \n",
       "1      1     1     46039.49       True  151315        38.51       2.548   \n",
       "2      1     1     41595.55      False  151315        39.93       2.514   \n",
       "3      1     1     19403.54      False  151315        46.63       2.561   \n",
       "4      1     1     21827.90      False  151315        46.50       2.625   \n",
       "\n",
       "   MarkDown1  MarkDown2  MarkDown3  MarkDown4  MarkDown5         CPI  \\\n",
       "0        0.0        0.0        0.0        0.0        0.0  211.096358   \n",
       "1        0.0        0.0        0.0        0.0        0.0  211.242170   \n",
       "2        0.0        0.0        0.0        0.0        0.0  211.289143   \n",
       "3        0.0        0.0        0.0        0.0        0.0  211.319643   \n",
       "4        0.0        0.0        0.0        0.0        0.0  211.350143   \n",
       "\n",
       "   Unemployment  Type_A  Type_B  Type_C  Day  Month  Year  \n",
       "0         8.106       1       0       0    5      2  2010  \n",
       "1         8.106       1       0       0   12      2  2010  \n",
       "2         8.106       1       0       0   19      2  2010  \n",
       "3         8.106       1       0       0   26      2  2010  \n",
       "4         8.106       1       0       0    5      3  2010  "
      ]
     },
     "execution_count": 4,
     "metadata": {},
     "output_type": "execute_result"
    }
   ],
   "source": [
    "# Data Manipulation\n",
    "\n",
    "# Creating new columns for each Type of store (Type_A, Type_B, etc.)\n",
    "# Now, we can asign different weights to Types\n",
    "dataset = pd.get_dummies(dataset, columns=[\"Type\"])\n",
    "\n",
    "# Changing NaNs in MarkDown Colums to 0s\n",
    "dataset[['MarkDown1','MarkDown2','MarkDown3','MarkDown4', 'MarkDown5']] = dataset[['MarkDown1','MarkDown2','MarkDown3','MarkDown4','MarkDown5']].fillna(0)\n",
    "\n",
    "# Converting Date to concrete columns like Day, Month, and Year\n",
    "dataset['Day'] = pd.to_datetime(dataset['Date']).dt.day\n",
    "dataset['Month'] = pd.to_datetime(dataset['Date']).dt.month\n",
    "dataset['Year'] = pd.to_datetime(dataset['Date']).dt.year\n",
    "\n",
    "# Now, we do not need Date column\n",
    "dataset = dataset.drop(columns=[\"Date\"])\n",
    "\n",
    "dataset.head()"
   ]
  },
  {
   "cell_type": "markdown",
   "metadata": {},
   "source": [
    "## 1. Explore training dataset  (again...)"
   ]
  },
  {
   "cell_type": "code",
   "execution_count": 5,
   "metadata": {},
   "outputs": [
    {
     "data": {
      "image/png": "[encoded data removed]",
      "text/plain": [
       "<Figure size 432x288 with 2 Axes>"
      ]
     },
     "metadata": {
      "needs_background": "light"
     },
     "output_type": "display_data"
    }
   ],
   "source": [
    "# Visualize correlation of features in our dataset\n",
    "corrMatrix = dataset.corr()\n",
    "sns.heatmap(corrMatrix)\n",
    "plt.show()"
   ]
  },
  {
   "cell_type": "code",
   "execution_count": 6,
   "metadata": {},
   "outputs": [
    {
     "data": {
      "image/png": "[encoded data removed]",
      "text/plain": [
       "<Figure size 432x288 with 2 Axes>"
      ]
     },
     "metadata": {},
     "output_type": "display_data"
    }
   ],
   "source": [
    "# Visualize weeklySales highest correlations with other features\n",
    "# Number of variables for heatmap\n",
    "k = 10\n",
    "cols = corrMatrix.nlargest(k, 'weeklySales')['weeklySales'].index\n",
    "cm = np.corrcoef(dataset[cols].values.T)\n",
    "sns.set(font_scale=1.25)\n",
    "hm = sns.heatmap(cm, cbar=True, annot=True, square=True, fmt='.2f', annot_kws={'size': 10}, yticklabels=cols.values, xticklabels=cols.values)\n",
    "plt.show()"
   ]
  },
  {
   "cell_type": "markdown",
   "metadata": {},
   "source": [
    "## 2. Manipulate training dataset (again...)"
   ]
  },
  {
   "cell_type": "code",
   "execution_count": 7,
   "metadata": {},
   "outputs": [
    {
     "data": {
      "text/html": [
       "<div>\n",
       "<style scoped>\n",
       "    .dataframe tbody tr th:only-of-type {\n",
       "        vertical-align: middle;\n",
       "    }\n",
       "\n",
       "    .dataframe tbody tr th {\n",
       "        vertical-align: top;\n",
       "    }\n",
       "\n",
       "    .dataframe thead th {\n",
       "        text-align: right;\n",
       "    }\n",
       "</style>\n",
       "<table border=\"1\" class=\"dataframe\">\n",
       "  <thead>\n",
       "    <tr style=\"text-align: right;\">\n",
       "      <th></th>\n",
       "      <th>Dept</th>\n",
       "      <th>weeklySales</th>\n",
       "      <th>isHoliday</th>\n",
       "      <th>Size</th>\n",
       "      <th>MarkDown1</th>\n",
       "      <th>MarkDown2</th>\n",
       "      <th>MarkDown3</th>\n",
       "      <th>MarkDown4</th>\n",
       "      <th>MarkDown5</th>\n",
       "      <th>Type_A</th>\n",
       "      <th>Month</th>\n",
       "    </tr>\n",
       "  </thead>\n",
       "  <tbody>\n",
       "    <tr>\n",
       "      <th>0</th>\n",
       "      <td>1</td>\n",
       "      <td>24924.50</td>\n",
       "      <td>False</td>\n",
       "      <td>151315</td>\n",
       "      <td>0.0</td>\n",
       "      <td>0.0</td>\n",
       "      <td>0.0</td>\n",
       "      <td>0.0</td>\n",
       "      <td>0.0</td>\n",
       "      <td>1</td>\n",
       "      <td>2</td>\n",
       "    </tr>\n",
       "    <tr>\n",
       "      <th>1</th>\n",
       "      <td>1</td>\n",
       "      <td>46039.49</td>\n",
       "      <td>True</td>\n",
       "      <td>151315</td>\n",
       "      <td>0.0</td>\n",
       "      <td>0.0</td>\n",
       "      <td>0.0</td>\n",
       "      <td>0.0</td>\n",
       "      <td>0.0</td>\n",
       "      <td>1</td>\n",
       "      <td>2</td>\n",
       "    </tr>\n",
       "    <tr>\n",
       "      <th>2</th>\n",
       "      <td>1</td>\n",
       "      <td>41595.55</td>\n",
       "      <td>False</td>\n",
       "      <td>151315</td>\n",
       "      <td>0.0</td>\n",
       "      <td>0.0</td>\n",
       "      <td>0.0</td>\n",
       "      <td>0.0</td>\n",
       "      <td>0.0</td>\n",
       "      <td>1</td>\n",
       "      <td>2</td>\n",
       "    </tr>\n",
       "    <tr>\n",
       "      <th>3</th>\n",
       "      <td>1</td>\n",
       "      <td>19403.54</td>\n",
       "      <td>False</td>\n",
       "      <td>151315</td>\n",
       "      <td>0.0</td>\n",
       "      <td>0.0</td>\n",
       "      <td>0.0</td>\n",
       "      <td>0.0</td>\n",
       "      <td>0.0</td>\n",
       "      <td>1</td>\n",
       "      <td>2</td>\n",
       "    </tr>\n",
       "    <tr>\n",
       "      <th>4</th>\n",
       "      <td>1</td>\n",
       "      <td>21827.90</td>\n",
       "      <td>False</td>\n",
       "      <td>151315</td>\n",
       "      <td>0.0</td>\n",
       "      <td>0.0</td>\n",
       "      <td>0.0</td>\n",
       "      <td>0.0</td>\n",
       "      <td>0.0</td>\n",
       "      <td>1</td>\n",
       "      <td>3</td>\n",
       "    </tr>\n",
       "  </tbody>\n",
       "</table>\n",
       "</div>"
      ],
      "text/plain": [
       "   Dept  weeklySales  isHoliday    Size  MarkDown1  MarkDown2  MarkDown3  \\\n",
       "0     1     24924.50      False  151315        0.0        0.0        0.0   \n",
       "1     1     46039.49       True  151315        0.0        0.0        0.0   \n",
       "2     1     41595.55      False  151315        0.0        0.0        0.0   \n",
       "3     1     19403.54      False  151315        0.0        0.0        0.0   \n",
       "4     1     21827.90      False  151315        0.0        0.0        0.0   \n",
       "\n",
       "   MarkDown4  MarkDown5  Type_A  Month  \n",
       "0        0.0        0.0       1      2  \n",
       "1        0.0        0.0       1      2  \n",
       "2        0.0        0.0       1      2  \n",
       "3        0.0        0.0       1      2  \n",
       "4        0.0        0.0       1      3  "
      ]
     },
     "execution_count": 7,
     "metadata": {},
     "output_type": "execute_result"
    }
   ],
   "source": [
    "# Dropping columns that correlate bad with the output\n",
    "# Notice that we will need 'IsHoliday' in calculation of error\n",
    "dataset = dataset.drop(columns=[\"Store\"])\n",
    "dataset = dataset.drop(columns=[\"Temperature\"])\n",
    "dataset = dataset.drop(columns=[\"Fuel_Price\"])\n",
    "dataset = dataset.drop(columns=[\"CPI\"])\n",
    "dataset = dataset.drop(columns=[\"Unemployment\"])\n",
    "dataset = dataset.drop(columns=[\"Day\"])\n",
    "dataset = dataset.drop(columns=[\"Year\"])\n",
    "dataset = dataset.drop(columns=[\"Type_B\"])\n",
    "dataset = dataset.drop(columns=[\"Type_C\"])\n",
    "\n",
    "dataset.head()"
   ]
  },
  {
   "cell_type": "markdown",
   "metadata": {},
   "source": [
    "## 3. Apply CV to training dataset"
   ]
  },
  {
   "cell_type": "code",
   "execution_count": 8,
   "metadata": {},
   "outputs": [
    {
     "name": "stdout",
     "output_type": "stream",
     "text": [
      "Train: [     0      2      3 ... 421567 421568 421569] Validation: [     1      4     11 ... 421551 421552 421557]\n",
      "Train: [     0      1      2 ... 421567 421568 421569] Validation: [    30     33     37 ... 421549 421561 421566]\n",
      "Train: [     0      1      2 ... 421567 421568 421569] Validation: [     3      7     10 ... 421556 421559 421562]\n",
      "Train: [     0      1      2 ... 421566 421567 421568] Validation: [     9     13     16 ... 421510 421554 421569]\n",
      "Train: [     1      3      4 ... 421562 421566 421569] Validation: [     0      2      5 ... 421565 421567 421568]\n"
     ]
    }
   ],
   "source": [
    "kf = KFold(n_splits=5, shuffle=True) \n",
    "\n",
    "for train_index, test_index in kf.split(dataset):\n",
    "    print(\"Train:\", train_index, \"Validation:\", test_index)"
   ]
  },
  {
   "cell_type": "markdown",
   "metadata": {},
   "source": [
    "## 4. Run chosen algorithms"
   ]
  },
  {
   "cell_type": "code",
   "execution_count": 9,
   "metadata": {},
   "outputs": [],
   "source": [
    "# Choose model by changing model_name\n",
    "\n",
    "# Default model\n",
    "model_name = 'LinearRegression'\n",
    "\n",
    "# Return model by its name\n",
    "def choose_model(model_name):\n",
    "    if model_name == 'LinearRegression':\n",
    "        return LinearRegression()\n",
    "    elif model_name == 'NeuralNetwork':\n",
    "        return MLPRegressor(hidden_layer_sizes=(10,), activation='relu', verbose=1)\n",
    "    elif model_name == 'RandomForest':\n",
    "        return RandomForestRegressor(n_estimators=100, verbose=1)\n",
    "    elif model_name == 'ExtraTrees':\n",
    "        return ExtraTreesRegressor(n_estimators=100, verbose=1)\n",
    "    else:\n",
    "        return model_name\n",
    "\n",
    "# Predict using model and test_x\n",
    "def predict(model, test_x):\n",
    "    return pd.Series(model.predict(test_x))\n",
    "\n",
    "# Train the chosen model\n",
    "def train_model(train_x, train_y):\n",
    "    model = choose_model(model_name)\n",
    "    model.fit(train_x, train_y)\n",
    "    return model\n",
    "\n",
    "# Calculate weighted mean absolute error\n",
    "def calculate_error(test_y, predicted, weights):\n",
    "    return mean_absolute_error(test_y, predicted, sample_weight=weights)"
   ]
  },
  {
   "cell_type": "markdown",
   "metadata": {},
   "source": [
    "### 4.1. Linear Regression\n",
    "\n",
    "No need to select the best hyperparameters, because there is no hyperparameter."
   ]
  },
  {
   "cell_type": "code",
   "execution_count": 10,
   "metadata": {},
   "outputs": [
    {
     "name": "stdout",
     "output_type": "stream",
     "text": [
      "15150.609857285304\n",
      "16104.39888308818\n",
      "15503.945392670836\n",
      "15625.05779926376\n",
      "15967.492563616695\n"
     ]
    },
    {
     "data": {
      "text/plain": [
       "15670.300899184955"
      ]
     },
     "execution_count": 10,
     "metadata": {},
     "output_type": "execute_result"
    }
   ],
   "source": [
    "# Run linear regression algorithm\n",
    "model_name = 'LinearRegression'\n",
    "\n",
    "# CV error\n",
    "error_cv = 0\n",
    "\n",
    "# Loop through each possible testing fold\n",
    "for train_index, test_index in kf.split(dataset):\n",
    "    \n",
    "    # Divide dataset according to folds\n",
    "    dataset_train = pd.DataFrame(dataset, index=train_index)\n",
    "    dataset_test = pd.DataFrame(dataset, index=test_index)\n",
    "        \n",
    "    # Obtain input and output matrices\n",
    "    train_y = dataset_train['weeklySales']\n",
    "    train_x = dataset_train.drop(columns=['weeklySales'])\n",
    "    test_y = dataset_test['weeklySales']\n",
    "    test_x = dataset_test.drop(columns=['weeklySales'])\n",
    "    \n",
    "    # Train our model\n",
    "    model = train_model(train_x, train_y)\n",
    "    \n",
    "    # Use our model to make predictions on testing set\n",
    "    predicted = predict(model, test_x)\n",
    "    \n",
    "    # Calculate weighted mean error\n",
    "    weights = test_x['isHoliday'].replace(True, 5).replace(False, 1)\n",
    "    error = calculate_error(test_y, predicted, weights)\n",
    "    print(error)\n",
    "    \n",
    "    # Accumulate all errors in error_cv\n",
    "    error_cv += error\n",
    "    \n",
    "# Divide by number of folds\n",
    "error_cv /= 5\n",
    "\n",
    "error_cv"
   ]
  },
  {
   "cell_type": "code",
   "execution_count": 11,
   "metadata": {},
   "outputs": [
    {
     "data": {
      "image/png": "[encoded data removed]",
      "text/plain": [
       "<Figure size 432x288 with 1 Axes>"
      ]
     },
     "metadata": {},
     "output_type": "display_data"
    }
   ],
   "source": [
    "# Get predictions on training dataset\n",
    "dataset2pred = dataset.drop(columns=['weeklySales'])\n",
    "predicted = predict(model, dataset2pred)\n",
    "\n",
    "# Plot actual outputs and our predictions for first 100 examples\n",
    "plt.plot(dataset['weeklySales'][:100], 'bo')\n",
    "plt.plot(np.array(predicted[:100]), 'ro')\n",
    "plt.ylabel('Weekly Sales')\n",
    "plt.xlabel('Indexes')\n",
    "plt.show()"
   ]
  },
  {
   "cell_type": "markdown",
   "metadata": {},
   "source": [
    "### 4.2. Neural Network (MLPRegressor)"
   ]
  },
  {
   "cell_type": "code",
   "execution_count": 12,
   "metadata": {},
   "outputs": [
    {
     "name": "stdout",
     "output_type": "stream",
     "text": [
      "Iteration 1, loss = 265468642.47336140\n",
      "Iteration 2, loss = 242046217.01576510\n",
      "Iteration 3, loss = 241891013.15576178\n",
      "Iteration 4, loss = 241684944.97986516\n",
      "Iteration 5, loss = 241551968.27803203\n",
      "Iteration 6, loss = 241358237.34115878\n",
      "Iteration 7, loss = 241127282.52276924\n",
      "Iteration 8, loss = 240848831.92390972\n",
      "Iteration 9, loss = 240522978.91270062\n",
      "Iteration 10, loss = 240175659.46462795\n",
      "Iteration 11, loss = 239703764.17685232\n",
      "Iteration 12, loss = 239169159.02102998\n",
      "Iteration 13, loss = 238643706.58376324\n",
      "Iteration 14, loss = 238106361.43303978\n",
      "Iteration 15, loss = 237612355.16985479\n",
      "Iteration 16, loss = 237218562.17312571\n",
      "Iteration 17, loss = 236899596.51991791\n",
      "Iteration 18, loss = 236593391.29024220\n",
      "Iteration 19, loss = 236391763.94169480\n",
      "Iteration 20, loss = 236204722.22000703\n",
      "Iteration 21, loss = 236050021.19216913\n",
      "Iteration 22, loss = 235974384.81967241\n",
      "Iteration 23, loss = 235897873.28526729\n",
      "Iteration 24, loss = 235817046.41781247\n",
      "Iteration 25, loss = 235807928.15054554\n",
      "Iteration 26, loss = 235796120.44139674\n",
      "Iteration 27, loss = 235732879.26974159\n",
      "Iteration 28, loss = 235764795.59214941\n",
      "Iteration 29, loss = 235676350.70662037\n",
      "Iteration 30, loss = 235753982.75354144\n",
      "Iteration 31, loss = 235649657.00117826\n",
      "Iteration 32, loss = 235716046.80844915\n",
      "Iteration 33, loss = 235657779.38124892\n",
      "Iteration 34, loss = 235657440.49541357\n",
      "Iteration 35, loss = 235682313.84065643\n",
      "Iteration 36, loss = 235656074.03768247\n",
      "Iteration 37, loss = 235649389.34337932\n",
      "Iteration 38, loss = 235691413.05497169\n",
      "Iteration 39, loss = 235658482.17423362\n",
      "Iteration 40, loss = 235639896.67900127\n",
      "Iteration 41, loss = 235698063.40260363\n",
      "Iteration 42, loss = 235639034.45365456\n",
      "Iteration 43, loss = 235673859.50640747\n",
      "Iteration 44, loss = 235642059.35802838\n",
      "Iteration 45, loss = 235599857.66656142\n",
      "Iteration 46, loss = 235609564.88086629\n",
      "Iteration 47, loss = 235651965.35474151\n",
      "Iteration 48, loss = 235619981.13027090\n",
      "Iteration 49, loss = 235625919.67070764\n",
      "Iteration 50, loss = 235601983.92435187\n",
      "Iteration 51, loss = 235610354.15190330\n",
      "Iteration 52, loss = 235580524.58668789\n",
      "Iteration 53, loss = 235555646.86312655\n",
      "Iteration 54, loss = 235551854.59714416\n",
      "Iteration 55, loss = 235652406.25221780\n",
      "Iteration 56, loss = 235580522.56115791\n",
      "Iteration 57, loss = 235547413.59244680\n",
      "Iteration 58, loss = 235543294.22890225\n",
      "Iteration 59, loss = 235584398.47712958\n",
      "Iteration 60, loss = 235538566.85720977\n",
      "Iteration 61, loss = 235563750.15994489\n",
      "Iteration 62, loss = 235578332.94668853\n",
      "Iteration 63, loss = 235495498.64886340\n",
      "Iteration 64, loss = 235482718.11457759\n",
      "Iteration 65, loss = 235511320.44306290\n",
      "Iteration 66, loss = 235537657.86539638\n",
      "Iteration 67, loss = 235462433.44055662\n",
      "Iteration 68, loss = 235477205.07790321\n",
      "Iteration 69, loss = 235531486.05191129\n",
      "Iteration 70, loss = 235434492.89474636\n",
      "Iteration 71, loss = 235537489.70784250\n",
      "Iteration 72, loss = 235470158.68430328\n",
      "Iteration 73, loss = 235444354.18759590\n",
      "Iteration 74, loss = 235488773.81069517\n",
      "Iteration 75, loss = 235392276.75847030\n",
      "Iteration 76, loss = 235468739.59551701\n",
      "Iteration 77, loss = 235356688.43522450\n",
      "Iteration 78, loss = 235433381.07523718\n",
      "Iteration 79, loss = 235406837.69909152\n",
      "Iteration 80, loss = 235401098.16228303\n",
      "Iteration 81, loss = 235459921.14142895\n",
      "Iteration 82, loss = 235366733.57478648\n",
      "Iteration 83, loss = 235432560.75117937\n",
      "Iteration 84, loss = 235432737.23257658\n",
      "Iteration 85, loss = 235418367.70934811\n",
      "Iteration 86, loss = 235412494.19793421\n",
      "Iteration 87, loss = 235376765.03817180\n",
      "Iteration 88, loss = 235368219.99709007\n",
      "Training loss did not improve more than tol=0.000100 for 10 consecutive epochs. Stopping.\n",
      "16166.74272406255\n",
      "Iteration 1, loss = 244113488.82805365\n",
      "Iteration 2, loss = 242033553.93631312\n",
      "Iteration 3, loss = 241703807.43361413\n",
      "Iteration 4, loss = 241345282.49027306\n",
      "Iteration 5, loss = 241054660.77786314\n",
      "Iteration 6, loss = 240711268.98258260\n",
      "Iteration 7, loss = 240274419.14357242\n",
      "Iteration 8, loss = 239852466.40713966\n",
      "Iteration 9, loss = 239353090.01350167\n",
      "Iteration 10, loss = 238961815.26261422\n",
      "Iteration 11, loss = 238335987.41693014\n",
      "Iteration 12, loss = 237923693.52239782\n",
      "Iteration 13, loss = 237513461.74558616\n",
      "Iteration 14, loss = 237094700.10490394\n",
      "Iteration 15, loss = 236827970.69330856\n",
      "Iteration 16, loss = 236533969.83199874\n",
      "Iteration 17, loss = 236301096.33041814\n",
      "Iteration 18, loss = 236129064.32901004\n",
      "Iteration 19, loss = 236056637.93381849\n",
      "Iteration 20, loss = 235313978.03033578\n",
      "Iteration 21, loss = 235098583.57789770\n",
      "Iteration 22, loss = 234860143.64552614\n",
      "Iteration 23, loss = 234728259.76488447\n",
      "Iteration 24, loss = 234688154.35380068\n",
      "Iteration 25, loss = 234427736.12176201\n",
      "Iteration 26, loss = 234427541.37599128\n",
      "Iteration 27, loss = 234318872.64006576\n",
      "Iteration 28, loss = 234109614.08673775\n",
      "Iteration 29, loss = 234030410.05001023\n",
      "Iteration 30, loss = 233921510.90837455\n",
      "Iteration 31, loss = 233885375.60484102\n",
      "Iteration 32, loss = 233761071.92334369\n",
      "Iteration 33, loss = 233723343.56146643\n",
      "Iteration 34, loss = 233641210.40710005\n",
      "Iteration 35, loss = 233544488.11534038\n",
      "Iteration 36, loss = 233500762.07312045\n",
      "Iteration 37, loss = 233450898.60770550\n",
      "Iteration 38, loss = 233345974.20841897\n",
      "Iteration 39, loss = 233243861.78973553\n",
      "Iteration 40, loss = 233159126.63391575\n",
      "Iteration 41, loss = 233139571.82155746\n",
      "Iteration 42, loss = 233048025.58532640\n",
      "Iteration 43, loss = 233010410.16835070\n",
      "Iteration 44, loss = 232909039.36403280\n",
      "Iteration 45, loss = 232931667.49398309\n",
      "Iteration 46, loss = 232763112.37553802\n",
      "Iteration 47, loss = 232811977.36165360\n",
      "Iteration 48, loss = 232584656.61252618\n",
      "Iteration 49, loss = 232675587.96632478\n",
      "Iteration 50, loss = 232469700.68131998\n",
      "Iteration 51, loss = 232439747.03278047\n",
      "Iteration 52, loss = 232482383.52153227\n",
      "Iteration 53, loss = 232381412.05175209\n",
      "Iteration 54, loss = 232298113.89472133\n",
      "Iteration 55, loss = 232202909.81599104\n",
      "Iteration 56, loss = 232128980.29359916\n",
      "Iteration 57, loss = 232013076.58270243\n",
      "Iteration 58, loss = 232006775.42143765\n",
      "Iteration 59, loss = 231840560.65017951\n",
      "Iteration 60, loss = 231867379.45586014\n",
      "Iteration 61, loss = 231699395.31166202\n",
      "Iteration 62, loss = 231711144.47063252\n",
      "Iteration 63, loss = 231668831.48507819\n",
      "Iteration 64, loss = 231573440.06643659\n",
      "Iteration 65, loss = 231435604.49985772\n",
      "Iteration 66, loss = 231423832.96110332\n",
      "Iteration 67, loss = 231324939.62159240\n",
      "Iteration 68, loss = 231166845.56550440\n",
      "Iteration 69, loss = 231146803.75178930\n",
      "Iteration 70, loss = 231130100.16220102\n",
      "Iteration 71, loss = 230995800.11657813\n",
      "Iteration 72, loss = 230964838.20996547\n",
      "Iteration 73, loss = 230797226.73984715\n",
      "Iteration 74, loss = 230867166.25631168\n",
      "Iteration 75, loss = 230660320.15620896\n",
      "Iteration 76, loss = 230645532.46960294\n",
      "Iteration 77, loss = 230544543.39844835\n",
      "Iteration 78, loss = 230451240.21284398\n",
      "Iteration 79, loss = 230484944.50327951\n",
      "Iteration 80, loss = 230408029.14186373\n",
      "Iteration 81, loss = 230249927.26818413\n",
      "Iteration 82, loss = 230197910.63004225\n",
      "Iteration 83, loss = 230079566.51222068\n",
      "Iteration 84, loss = 229980521.38870639\n",
      "Iteration 85, loss = 229946634.18021715\n",
      "Iteration 86, loss = 230008768.82817638\n",
      "Iteration 87, loss = 229945575.18467179\n",
      "Iteration 88, loss = 229733714.08915162\n",
      "Iteration 89, loss = 229638819.02950257\n",
      "Iteration 90, loss = 229724093.75387701\n",
      "Iteration 91, loss = 229600365.84156606\n",
      "Iteration 92, loss = 229430074.92525095\n",
      "Iteration 93, loss = 229330766.69770771\n",
      "Iteration 94, loss = 229382161.09293798\n",
      "Iteration 95, loss = 229264620.10704076\n",
      "Iteration 96, loss = 229314338.15863129\n",
      "Iteration 97, loss = 229200130.77883136\n",
      "Iteration 98, loss = 229108433.15868932\n",
      "Iteration 99, loss = 228969534.47003949\n",
      "Iteration 100, loss = 228896362.90858433\n",
      "Iteration 101, loss = 228894201.00830784\n",
      "Iteration 102, loss = 228878526.29131454\n",
      "Iteration 103, loss = 228726044.98004577\n",
      "Iteration 104, loss = 228757374.66622874\n",
      "Iteration 105, loss = 228563527.73846295\n",
      "Iteration 106, loss = 228682965.00405118\n",
      "Iteration 107, loss = 228464152.96824849\n",
      "Iteration 108, loss = 228493566.77650028\n",
      "Iteration 109, loss = 228564240.12822974\n",
      "Iteration 110, loss = 228490113.02351093\n",
      "Iteration 111, loss = 228266357.27051526\n",
      "Iteration 112, loss = 228274538.25238639\n",
      "Iteration 113, loss = 228282403.56088641\n",
      "Iteration 114, loss = 228265234.61797956\n",
      "Iteration 115, loss = 228109735.93944520\n"
     ]
    },
    {
     "name": "stdout",
     "output_type": "stream",
     "text": [
      "Iteration 116, loss = 228101899.20509782\n",
      "Iteration 117, loss = 228052727.81221738\n",
      "Iteration 118, loss = 227909188.43516624\n",
      "Iteration 119, loss = 227988092.81183136\n",
      "Iteration 120, loss = 227931541.52631542\n",
      "Iteration 121, loss = 227941727.03815684\n",
      "Iteration 122, loss = 227925207.17371702\n",
      "Iteration 123, loss = 227613953.88477165\n",
      "Iteration 124, loss = 227712798.71452928\n",
      "Iteration 125, loss = 227589435.66698590\n",
      "Iteration 126, loss = 227547724.96906880\n",
      "Iteration 127, loss = 227442989.23523238\n",
      "Iteration 128, loss = 227494777.41991284\n",
      "Iteration 129, loss = 227374332.53762633\n",
      "Iteration 130, loss = 227360234.49747869\n",
      "Iteration 131, loss = 227286003.43564042\n",
      "Iteration 132, loss = 227183504.06462705\n",
      "Iteration 133, loss = 227296329.36786938\n",
      "Iteration 134, loss = 227141510.05594999\n",
      "Iteration 135, loss = 227097921.66306904\n",
      "Iteration 136, loss = 227032878.31359842\n",
      "Iteration 137, loss = 227153270.54110211\n",
      "Iteration 138, loss = 227034076.14260077\n",
      "Iteration 139, loss = 226988227.82345983\n",
      "Iteration 140, loss = 226984742.31311393\n",
      "Iteration 141, loss = 226780914.66237932\n",
      "Iteration 142, loss = 226797067.00338569\n",
      "Iteration 143, loss = 226809563.93142942\n",
      "Iteration 144, loss = 226607851.40809146\n",
      "Iteration 145, loss = 226545748.01969716\n",
      "Iteration 146, loss = 226606504.60193542\n",
      "Iteration 147, loss = 226637652.02419943\n",
      "Iteration 148, loss = 226460177.71454358\n",
      "Iteration 149, loss = 226340272.37821162\n",
      "Iteration 150, loss = 226488795.92104048\n",
      "Iteration 151, loss = 226415901.47417164\n",
      "Iteration 152, loss = 226401572.91000521\n",
      "Iteration 153, loss = 226133842.26866227\n",
      "Iteration 154, loss = 226155517.01028451\n",
      "Iteration 155, loss = 226321345.70016837\n",
      "Iteration 156, loss = 226111769.04197517\n",
      "Iteration 157, loss = 226098964.67464051\n",
      "Iteration 158, loss = 226024462.48518136\n",
      "Iteration 159, loss = 226003253.97709519\n",
      "Iteration 160, loss = 225988954.22385189\n",
      "Iteration 161, loss = 225797792.12227169\n",
      "Iteration 162, loss = 225985339.99279267\n",
      "Iteration 163, loss = 225809398.37382916\n",
      "Iteration 164, loss = 225657284.12778437\n",
      "Iteration 165, loss = 225904984.62686425\n",
      "Iteration 166, loss = 225671207.30816260\n",
      "Iteration 167, loss = 225553145.19971064\n",
      "Iteration 168, loss = 225692276.23296341\n",
      "Iteration 169, loss = 225469205.88293806\n",
      "Iteration 170, loss = 225515609.57236397\n",
      "Iteration 171, loss = 225449160.79447645\n",
      "Iteration 172, loss = 225451414.33423063\n",
      "Iteration 173, loss = 225329177.64510345\n",
      "Iteration 174, loss = 225457131.63251072\n",
      "Iteration 175, loss = 225194074.32655716\n",
      "Iteration 176, loss = 225454868.87155333\n",
      "Iteration 177, loss = 225103125.76987872\n",
      "Iteration 178, loss = 225137009.37827417\n",
      "Iteration 179, loss = 225118292.51188290\n",
      "Iteration 180, loss = 224861490.08545661\n",
      "Iteration 181, loss = 224832201.32274976\n",
      "Iteration 182, loss = 224746491.86027190\n",
      "Iteration 183, loss = 224519349.00966594\n",
      "Iteration 184, loss = 224410470.55262843\n",
      "Iteration 185, loss = 224393440.19992161\n",
      "Iteration 186, loss = 224362158.62649250\n",
      "Iteration 187, loss = 224173932.52140903\n",
      "Iteration 188, loss = 224095765.26597962\n",
      "Iteration 189, loss = 223960809.01414779\n",
      "Iteration 190, loss = 223969255.30859578\n",
      "Iteration 191, loss = 223879839.88165829\n",
      "Iteration 192, loss = 223662460.18905970\n",
      "Iteration 193, loss = 223667032.75527084\n",
      "Iteration 194, loss = 223568211.14543375\n",
      "Iteration 195, loss = 223627618.08597508\n",
      "Iteration 196, loss = 223490842.94030157\n",
      "Iteration 197, loss = 223283810.94675821\n",
      "Iteration 198, loss = 223261817.18013546\n",
      "Iteration 199, loss = 223146694.81208494\n",
      "Iteration 200, loss = 223142469.47692659\n",
      "14535.913121814192\n"
     ]
    },
    {
     "name": "stderr",
     "output_type": "stream",
     "text": [
      "C:\\Users\\bakda\\anaconda3\\lib\\site-packages\\sklearn\\neural_network\\_multilayer_perceptron.py:582: ConvergenceWarning: Stochastic Optimizer: Maximum iterations (200) reached and the optimization hasn't converged yet.\n",
      "  warnings.warn(\n"
     ]
    },
    {
     "name": "stdout",
     "output_type": "stream",
     "text": [
      "Iteration 1, loss = 254207314.98337260\n",
      "Iteration 2, loss = 243426421.29440108\n",
      "Iteration 3, loss = 243163456.62998861\n",
      "Iteration 4, loss = 242904100.42085522\n",
      "Iteration 5, loss = 242604187.53970453\n",
      "Iteration 6, loss = 242259666.38039154\n",
      "Iteration 7, loss = 241879982.67719370\n",
      "Iteration 8, loss = 241466733.21436307\n",
      "Iteration 9, loss = 240980080.90596104\n",
      "Iteration 10, loss = 240505296.58491930\n",
      "Iteration 11, loss = 239970086.64629215\n",
      "Iteration 12, loss = 239399107.12608761\n",
      "Iteration 13, loss = 238735837.60185942\n",
      "Iteration 14, loss = 238242317.49781346\n",
      "Iteration 15, loss = 237758853.51843295\n",
      "Iteration 16, loss = 237291347.38878581\n",
      "Iteration 17, loss = 237049494.75919002\n",
      "Iteration 18, loss = 236678098.52709848\n",
      "Iteration 19, loss = 236536168.55292025\n",
      "Iteration 20, loss = 236382462.35947293\n",
      "Iteration 21, loss = 236098537.33179250\n",
      "Iteration 22, loss = 236046665.30926916\n",
      "Iteration 23, loss = 235869652.73096609\n",
      "Iteration 24, loss = 235643555.40427488\n",
      "Iteration 25, loss = 235450237.92544615\n",
      "Iteration 26, loss = 235246092.89206910\n",
      "Iteration 27, loss = 235126024.94337809\n",
      "Iteration 28, loss = 235022859.12215498\n",
      "Iteration 29, loss = 234885255.61951751\n",
      "Iteration 30, loss = 234877808.92255571\n",
      "Iteration 31, loss = 234744827.75984514\n",
      "Iteration 32, loss = 234665717.84184539\n",
      "Iteration 33, loss = 234600278.38823754\n",
      "Iteration 34, loss = 234556236.89100254\n",
      "Iteration 35, loss = 234496572.62089375\n",
      "Iteration 36, loss = 234446568.46512920\n",
      "Iteration 37, loss = 234364921.45690587\n",
      "Iteration 38, loss = 234272805.66415605\n",
      "Iteration 39, loss = 234275972.36505800\n",
      "Iteration 40, loss = 234166303.59898463\n",
      "Iteration 41, loss = 234195338.05943778\n",
      "Iteration 42, loss = 234018419.19830531\n",
      "Iteration 43, loss = 234101020.19310066\n",
      "Iteration 44, loss = 233969364.09317228\n",
      "Iteration 45, loss = 234008253.61698121\n",
      "Iteration 46, loss = 233799477.54595244\n",
      "Iteration 47, loss = 233804336.69707873\n",
      "Iteration 48, loss = 233775972.85993424\n",
      "Iteration 49, loss = 233727765.06927973\n",
      "Iteration 50, loss = 233663611.80707613\n",
      "Iteration 51, loss = 233661887.87954819\n",
      "Iteration 52, loss = 233575249.86826903\n",
      "Iteration 53, loss = 233541853.72948304\n",
      "Iteration 54, loss = 233434773.37506250\n",
      "Iteration 55, loss = 233538978.44237751\n",
      "Iteration 56, loss = 233463719.67113265\n",
      "Iteration 57, loss = 233356535.93606168\n",
      "Iteration 58, loss = 233343386.21772212\n",
      "Iteration 59, loss = 233305538.05434796\n",
      "Iteration 60, loss = 233264902.75760555\n",
      "Iteration 61, loss = 233133182.59050483\n",
      "Iteration 62, loss = 233206629.84072396\n",
      "Iteration 63, loss = 233130029.17924765\n",
      "Iteration 64, loss = 233177028.81013125\n",
      "Iteration 65, loss = 232999867.78401238\n",
      "Iteration 66, loss = 233064249.72235793\n",
      "Iteration 67, loss = 233002871.95420116\n",
      "Iteration 68, loss = 232981517.74945381\n",
      "Iteration 69, loss = 232886898.56411043\n",
      "Iteration 70, loss = 233005464.85053903\n",
      "Iteration 71, loss = 232892586.06404620\n",
      "Iteration 72, loss = 232915363.63663697\n",
      "Iteration 73, loss = 232925173.90494418\n",
      "Iteration 74, loss = 232787007.34717828\n",
      "Iteration 75, loss = 232789754.25353104\n",
      "Iteration 76, loss = 232717286.24999073\n",
      "Iteration 77, loss = 232715862.83001104\n",
      "Iteration 78, loss = 232669064.06309640\n",
      "Iteration 79, loss = 232627112.12950718\n",
      "Iteration 80, loss = 232679520.72305539\n",
      "Iteration 81, loss = 232585029.06980491\n",
      "Iteration 82, loss = 232571211.45275936\n",
      "Iteration 83, loss = 232591089.70284304\n",
      "Iteration 84, loss = 232486959.75136942\n",
      "Iteration 85, loss = 232534526.91574821\n",
      "Iteration 86, loss = 232514004.30981636\n",
      "Iteration 87, loss = 232465910.39486700\n",
      "Iteration 88, loss = 232472772.91147521\n",
      "Iteration 89, loss = 232392457.25620157\n",
      "Iteration 90, loss = 232401311.16448396\n",
      "Iteration 91, loss = 232448812.45220327\n",
      "Iteration 92, loss = 232293851.78858399\n",
      "Iteration 93, loss = 232340456.48859286\n",
      "Iteration 94, loss = 232301169.56820047\n",
      "Iteration 95, loss = 232399748.38292012\n",
      "Iteration 96, loss = 232226228.30808914\n",
      "Iteration 97, loss = 232295807.19874877\n",
      "Iteration 98, loss = 232241078.64487427\n",
      "Iteration 99, loss = 232201471.28613099\n",
      "Iteration 100, loss = 232244776.68684345\n",
      "Iteration 101, loss = 232104552.72343186\n",
      "Iteration 102, loss = 232132137.61845616\n",
      "Iteration 103, loss = 232200666.94163993\n",
      "Iteration 104, loss = 232071463.78980470\n",
      "Iteration 105, loss = 232042840.30505684\n",
      "Iteration 106, loss = 232060608.62575540\n",
      "Iteration 107, loss = 232051267.67824104\n",
      "Iteration 108, loss = 232000314.48256379\n",
      "Iteration 109, loss = 231979976.02575254\n",
      "Iteration 110, loss = 231915228.76004350\n",
      "Iteration 111, loss = 231980854.69500467\n",
      "Iteration 112, loss = 231870958.96938065\n",
      "Iteration 113, loss = 231926642.13837332\n",
      "Iteration 114, loss = 231779733.31977174\n",
      "Iteration 115, loss = 231801474.96055403\n",
      "Iteration 116, loss = 231735537.35246819\n",
      "Iteration 117, loss = 231725135.89117298\n",
      "Iteration 118, loss = 231624595.26033577\n",
      "Iteration 119, loss = 231707522.59608197\n",
      "Iteration 120, loss = 231608689.20363709\n",
      "Iteration 121, loss = 231564757.13315052\n",
      "Iteration 122, loss = 231613018.48800662\n",
      "Iteration 123, loss = 231530901.07752678\n",
      "Iteration 124, loss = 231424731.72700217\n",
      "Iteration 125, loss = 231514600.26132202\n",
      "Iteration 126, loss = 231450077.07124507\n",
      "Iteration 127, loss = 231434773.66737229\n",
      "Iteration 128, loss = 231426617.64367646\n",
      "Iteration 129, loss = 231354700.87848043\n",
      "Iteration 130, loss = 231329337.87845778\n",
      "Iteration 131, loss = 231286770.12582365\n",
      "Iteration 132, loss = 231140686.17096308\n",
      "Iteration 133, loss = 231185317.10954651\n",
      "Iteration 134, loss = 231174899.56519479\n",
      "Iteration 135, loss = 231016077.32314774\n",
      "Iteration 136, loss = 231009767.71010995\n",
      "Iteration 137, loss = 230914397.62761125\n",
      "Iteration 138, loss = 230856992.29645887\n",
      "Iteration 139, loss = 230745163.95506015\n",
      "Iteration 140, loss = 230885052.68620643\n",
      "Iteration 141, loss = 230670738.66547471\n",
      "Iteration 142, loss = 230627915.96585870\n",
      "Iteration 143, loss = 230596754.60491544\n",
      "Iteration 144, loss = 230490889.14420286\n",
      "Iteration 145, loss = 230437608.76161757\n",
      "Iteration 146, loss = 230429744.12472141\n",
      "Iteration 147, loss = 230338559.14268139\n",
      "Iteration 148, loss = 230333531.26247129\n",
      "Iteration 149, loss = 230054477.44085848\n",
      "Iteration 150, loss = 230111815.72494748\n",
      "Iteration 151, loss = 229936669.37817559\n",
      "Iteration 152, loss = 229911475.53278756\n",
      "Iteration 153, loss = 229891519.80834270\n",
      "Iteration 154, loss = 229396248.10189131\n",
      "Iteration 155, loss = 229226304.23184767\n",
      "Iteration 156, loss = 229312263.18429857\n",
      "Iteration 157, loss = 229087009.06636915\n",
      "Iteration 158, loss = 229007848.58970425\n",
      "Iteration 159, loss = 229064102.17131868\n",
      "Iteration 160, loss = 228901678.38542166\n",
      "Iteration 161, loss = 228868569.28892240\n",
      "Iteration 162, loss = 228643375.25792393\n",
      "Iteration 163, loss = 228583728.03259838\n",
      "Iteration 164, loss = 228393180.41698495\n",
      "Iteration 165, loss = 228353581.69711566\n",
      "Iteration 166, loss = 228245993.76605338\n",
      "Iteration 167, loss = 228146266.59521842\n",
      "Iteration 168, loss = 227807279.60421878\n",
      "Iteration 169, loss = 227367077.65316820\n",
      "Iteration 170, loss = 226953356.11298224\n",
      "Iteration 171, loss = 226713064.67961338\n",
      "Iteration 172, loss = 226245489.55377874\n",
      "Iteration 173, loss = 226285394.05968279\n",
      "Iteration 174, loss = 225724535.49175903\n",
      "Iteration 175, loss = 225649547.17337501\n",
      "Iteration 176, loss = 225423022.44674048\n",
      "Iteration 177, loss = 225318434.57042217\n",
      "Iteration 178, loss = 225005877.20522618\n",
      "Iteration 179, loss = 224791814.33692732\n",
      "Iteration 180, loss = 224571549.41035876\n",
      "Iteration 181, loss = 224510108.75915518\n",
      "Iteration 182, loss = 224229267.54827857\n",
      "Iteration 183, loss = 223978846.68236393\n",
      "Iteration 184, loss = 223533571.09773293\n",
      "Iteration 185, loss = 223686540.26685029\n",
      "Iteration 186, loss = 223340292.32316962\n",
      "Iteration 187, loss = 223416153.99011016\n",
      "Iteration 188, loss = 222874917.03143957\n",
      "Iteration 189, loss = 222770149.53320202\n",
      "Iteration 190, loss = 222616491.66337764\n",
      "Iteration 191, loss = 222320325.34820178\n",
      "Iteration 192, loss = 222293442.50059292\n",
      "Iteration 193, loss = 222242090.31457734\n",
      "Iteration 194, loss = 221846874.47485641\n",
      "Iteration 195, loss = 221787484.77765542\n",
      "Iteration 196, loss = 221453591.63043538\n",
      "Iteration 197, loss = 221153150.18262005\n",
      "Iteration 198, loss = 221129831.25323200\n",
      "Iteration 199, loss = 220723522.63644657\n",
      "Iteration 200, loss = 220425846.71008861\n",
      "13922.002676798025\n"
     ]
    },
    {
     "name": "stderr",
     "output_type": "stream",
     "text": [
      "C:\\Users\\bakda\\anaconda3\\lib\\site-packages\\sklearn\\neural_network\\_multilayer_perceptron.py:582: ConvergenceWarning: Stochastic Optimizer: Maximum iterations (200) reached and the optimization hasn't converged yet.\n",
      "  warnings.warn(\n"
     ]
    },
    {
     "name": "stdout",
     "output_type": "stream",
     "text": [
      "Iteration 1, loss = 301482506.15488189\n",
      "Iteration 2, loss = 242889698.15464240\n",
      "Iteration 3, loss = 242669665.57060230\n",
      "Iteration 4, loss = 242308066.19691283\n",
      "Iteration 5, loss = 241945549.26916015\n",
      "Iteration 6, loss = 241633924.02632019\n",
      "Iteration 7, loss = 241240717.48931158\n",
      "Iteration 8, loss = 240782758.38435379\n",
      "Iteration 9, loss = 240400272.03186703\n",
      "Iteration 10, loss = 239967286.52910283\n",
      "Iteration 11, loss = 239506503.54151464\n",
      "Iteration 12, loss = 239217444.62428010\n",
      "Iteration 13, loss = 238864767.77061838\n",
      "Iteration 14, loss = 238536435.79401076\n",
      "Iteration 15, loss = 238196672.02164117\n",
      "Iteration 16, loss = 237836702.29054898\n",
      "Iteration 17, loss = 237693839.27477917\n",
      "Iteration 18, loss = 237458047.99265268\n",
      "Iteration 19, loss = 237366799.03775182\n",
      "Iteration 20, loss = 237248951.76184362\n",
      "Iteration 21, loss = 237113512.47350353\n",
      "Iteration 22, loss = 236997360.15736142\n",
      "Iteration 23, loss = 236959788.38197860\n",
      "Iteration 24, loss = 236908428.00339815\n",
      "Iteration 25, loss = 236841585.33023888\n",
      "Iteration 26, loss = 236869959.32815534\n",
      "Iteration 27, loss = 236795411.40789726\n",
      "Iteration 28, loss = 236858877.17631519\n",
      "Iteration 29, loss = 236794332.72134739\n",
      "Iteration 30, loss = 236864261.37756664\n",
      "Iteration 31, loss = 236816394.70334381\n",
      "Iteration 32, loss = 236755161.18608204\n",
      "Iteration 33, loss = 236756242.35268128\n",
      "Iteration 34, loss = 236682320.26394984\n",
      "Iteration 35, loss = 236728321.08866909\n",
      "Iteration 36, loss = 236780777.95438546\n",
      "Iteration 37, loss = 236734453.62947586\n",
      "Iteration 38, loss = 236803321.27542552\n",
      "Iteration 39, loss = 236721836.58645245\n",
      "Iteration 40, loss = 236824741.17532021\n",
      "Iteration 41, loss = 236748770.57198250\n",
      "Iteration 42, loss = 236710075.82395217\n",
      "Iteration 43, loss = 236782222.20884678\n",
      "Iteration 44, loss = 236775045.12512106\n",
      "Iteration 45, loss = 236887730.75062814\n",
      "Training loss did not improve more than tol=0.000100 for 10 consecutive epochs. Stopping.\n",
      "15742.223736714277\n",
      "Iteration 1, loss = 248222264.58092266\n",
      "Iteration 2, loss = 245708887.56639916\n",
      "Iteration 3, loss = 245347617.57145560\n",
      "Iteration 4, loss = 245001446.83472094\n",
      "Iteration 5, loss = 244370438.88659972\n",
      "Iteration 6, loss = 243705512.34343338\n",
      "Iteration 7, loss = 243006651.40824547\n",
      "Iteration 8, loss = 242179936.50756422\n",
      "Iteration 9, loss = 241547392.97749674\n",
      "Iteration 10, loss = 240954825.75428367\n",
      "Iteration 11, loss = 240510855.87298110\n",
      "Iteration 12, loss = 240233486.12493691\n",
      "Iteration 13, loss = 239993579.58563966\n",
      "Iteration 14, loss = 239761940.46190143\n",
      "Iteration 15, loss = 239652858.31661910\n",
      "Iteration 16, loss = 239500170.10764629\n",
      "Iteration 17, loss = 239558469.63516009\n",
      "Iteration 18, loss = 239354804.67096421\n",
      "Iteration 19, loss = 239376221.97048774\n",
      "Iteration 20, loss = 239297832.40817896\n",
      "Iteration 21, loss = 239357515.07403398\n",
      "Iteration 22, loss = 239410481.04040167\n",
      "Iteration 23, loss = 239277695.53333446\n",
      "Iteration 24, loss = 239278236.67108762\n",
      "Iteration 25, loss = 239282220.82381576\n",
      "Iteration 26, loss = 239252666.93270418\n",
      "Iteration 27, loss = 239221296.96158388\n",
      "Iteration 28, loss = 239240301.03972256\n",
      "Iteration 29, loss = 239269253.33332571\n",
      "Iteration 30, loss = 239208031.80904213\n",
      "Iteration 31, loss = 239306606.05750263\n",
      "Iteration 32, loss = 239159875.09091467\n",
      "Iteration 33, loss = 239195401.28274909\n",
      "Iteration 34, loss = 239123289.48615396\n",
      "Iteration 35, loss = 239065838.84147239\n",
      "Iteration 36, loss = 239115742.14158893\n",
      "Iteration 37, loss = 239172727.72971970\n",
      "Iteration 38, loss = 239136492.55930585\n",
      "Iteration 39, loss = 239120334.02456123\n",
      "Iteration 40, loss = 239084304.57808590\n",
      "Iteration 41, loss = 239125541.72092226\n",
      "Iteration 42, loss = 239110106.26855356\n",
      "Iteration 43, loss = 239093645.31252146\n",
      "Iteration 44, loss = 239110435.74707419\n",
      "Iteration 45, loss = 239034052.35699892\n",
      "Iteration 46, loss = 239103222.00603214\n",
      "Iteration 47, loss = 239086003.15034735\n",
      "Iteration 48, loss = 239073989.11893886\n",
      "Iteration 49, loss = 239150618.25738445\n",
      "Iteration 50, loss = 239082191.15041620\n",
      "Iteration 51, loss = 239092313.29551569\n",
      "Iteration 52, loss = 239059597.36736986\n",
      "Iteration 53, loss = 239054821.86091042\n",
      "Iteration 54, loss = 239044824.93991539\n",
      "Iteration 55, loss = 239065579.82157859\n",
      "Iteration 56, loss = 239003973.79265782\n",
      "Iteration 57, loss = 239064266.33877316\n",
      "Iteration 58, loss = 239025168.96338162\n",
      "Iteration 59, loss = 238980236.12471589\n",
      "Iteration 60, loss = 238974869.55387512\n",
      "Iteration 61, loss = 239065073.95261005\n",
      "Iteration 62, loss = 239005183.06736395\n",
      "Iteration 63, loss = 238960405.62507895\n",
      "Iteration 64, loss = 238933691.32488585\n",
      "Iteration 65, loss = 239020613.00901142\n",
      "Iteration 66, loss = 239016641.23088571\n",
      "Iteration 67, loss = 238996852.83205891\n",
      "Iteration 68, loss = 239008084.58087593\n",
      "Iteration 69, loss = 239034045.81677541\n",
      "Iteration 70, loss = 238983576.24751121\n",
      "Iteration 71, loss = 239026870.50780374\n",
      "Iteration 72, loss = 239017041.16826132\n",
      "Iteration 73, loss = 238983289.01553965\n",
      "Iteration 74, loss = 238962597.56205866\n",
      "Iteration 75, loss = 238980296.23638746\n",
      "Training loss did not improve more than tol=0.000100 for 10 consecutive epochs. Stopping.\n",
      "15605.439269033895\n"
     ]
    },
    {
     "data": {
      "text/plain": [
       "15194.464305684587"
      ]
     },
     "execution_count": 12,
     "metadata": {},
     "output_type": "execute_result"
    }
   ],
   "source": [
    "# Run MLPRegressor algorithm\n",
    "model_name = 'NeuralNetwork'\n",
    "\n",
    "# CV error\n",
    "error_cv = 0\n",
    "\n",
    "# Loop through each possible testing fold\n",
    "for train_index, test_index in kf.split(dataset):\n",
    "    \n",
    "    # Divide dataset according to folds\n",
    "    dataset_train = pd.DataFrame(dataset, index=train_index)\n",
    "    dataset_test = pd.DataFrame(dataset, index=test_index)\n",
    "        \n",
    "    # Obtain input and output matrices\n",
    "    train_y = dataset_train['weeklySales']\n",
    "    train_x = dataset_train.drop(columns=['weeklySales'])\n",
    "    test_y = dataset_test['weeklySales']\n",
    "    test_x = dataset_test.drop(columns=['weeklySales'])\n",
    "    \n",
    "    # Train our model\n",
    "    model = train_model(train_x, train_y)\n",
    "    \n",
    "    # Use our model to make predictions on testing set\n",
    "    predicted = predict(model, test_x)\n",
    "    \n",
    "    # Calculate weighted mean error\n",
    "    weights = test_x['isHoliday'].replace(True, 5).replace(False, 1)\n",
    "    error = calculate_error(test_y, predicted, weights)\n",
    "    print(error)\n",
    "    \n",
    "    # Accumulate all errors in error_cv\n",
    "    error_cv += error\n",
    "    \n",
    "# Divide by number of folds\n",
    "error_cv /= 5\n",
    "\n",
    "error_cv"
   ]
  },
  {
   "cell_type": "code",
   "execution_count": 13,
   "metadata": {},
   "outputs": [
    {
     "data": {
      "image/png": "[encoded data removed]",
      "text/plain": [
       "<Figure size 432x288 with 1 Axes>"
      ]
     },
     "metadata": {},
     "output_type": "display_data"
    }
   ],
   "source": [
    "# Get predictions on training dataset\n",
    "dataset2pred = dataset.drop(columns=['weeklySales'])\n",
    "predicted = predict(model, dataset2pred)\n",
    "\n",
    "# Plot actual outputs and our predictions for first 100 examples\n",
    "plt.plot(dataset['weeklySales'][:100], 'bo')\n",
    "plt.plot(np.array(predicted[:100]), 'ro')\n",
    "plt.ylabel('Weekly Sales')\n",
    "plt.xlabel('Indexes')\n",
    "plt.show()"
   ]
  },
  {
   "cell_type": "markdown",
   "metadata": {},
   "source": [
    "### 4.3. Extra Trees Regressor"
   ]
  },
  {
   "cell_type": "code",
   "execution_count": 14,
   "metadata": {},
   "outputs": [
    {
     "name": "stderr",
     "output_type": "stream",
     "text": [
      "[Parallel(n_jobs=1)]: Using backend SequentialBackend with 1 concurrent workers.\n",
      "[Parallel(n_jobs=1)]: Done 100 out of 100 | elapsed:  1.3min finished\n",
      "[Parallel(n_jobs=1)]: Using backend SequentialBackend with 1 concurrent workers.\n",
      "[Parallel(n_jobs=1)]: Done 100 out of 100 | elapsed:    2.0s finished\n"
     ]
    },
    {
     "name": "stdout",
     "output_type": "stream",
     "text": [
      "2977.244485649731\n"
     ]
    },
    {
     "name": "stderr",
     "output_type": "stream",
     "text": [
      "[Parallel(n_jobs=1)]: Using backend SequentialBackend with 1 concurrent workers.\n",
      "[Parallel(n_jobs=1)]: Done 100 out of 100 | elapsed:  1.4min finished\n",
      "[Parallel(n_jobs=1)]: Using backend SequentialBackend with 1 concurrent workers.\n",
      "[Parallel(n_jobs=1)]: Done 100 out of 100 | elapsed:    2.0s finished\n"
     ]
    },
    {
     "name": "stdout",
     "output_type": "stream",
     "text": [
      "3046.6470098822465\n"
     ]
    },
    {
     "name": "stderr",
     "output_type": "stream",
     "text": [
      "[Parallel(n_jobs=1)]: Using backend SequentialBackend with 1 concurrent workers.\n",
      "[Parallel(n_jobs=1)]: Done 100 out of 100 | elapsed:  1.2min finished\n",
      "[Parallel(n_jobs=1)]: Using backend SequentialBackend with 1 concurrent workers.\n",
      "[Parallel(n_jobs=1)]: Done 100 out of 100 | elapsed:    2.0s finished\n"
     ]
    },
    {
     "name": "stdout",
     "output_type": "stream",
     "text": [
      "2879.089979788549\n"
     ]
    },
    {
     "name": "stderr",
     "output_type": "stream",
     "text": [
      "[Parallel(n_jobs=1)]: Using backend SequentialBackend with 1 concurrent workers.\n",
      "[Parallel(n_jobs=1)]: Done 100 out of 100 | elapsed:  1.2min finished\n",
      "[Parallel(n_jobs=1)]: Using backend SequentialBackend with 1 concurrent workers.\n",
      "[Parallel(n_jobs=1)]: Done 100 out of 100 | elapsed:    2.0s finished\n"
     ]
    },
    {
     "name": "stdout",
     "output_type": "stream",
     "text": [
      "2988.235151817186\n"
     ]
    },
    {
     "name": "stderr",
     "output_type": "stream",
     "text": [
      "[Parallel(n_jobs=1)]: Using backend SequentialBackend with 1 concurrent workers.\n",
      "[Parallel(n_jobs=1)]: Done 100 out of 100 | elapsed:  1.3min finished\n",
      "[Parallel(n_jobs=1)]: Using backend SequentialBackend with 1 concurrent workers.\n"
     ]
    },
    {
     "name": "stdout",
     "output_type": "stream",
     "text": [
      "3013.964197596828\n"
     ]
    },
    {
     "name": "stderr",
     "output_type": "stream",
     "text": [
      "[Parallel(n_jobs=1)]: Done 100 out of 100 | elapsed:    2.0s finished\n"
     ]
    },
    {
     "data": {
      "text/plain": [
       "2981.036164946908"
      ]
     },
     "execution_count": 14,
     "metadata": {},
     "output_type": "execute_result"
    }
   ],
   "source": [
    "# Run Extra Trees Regressor algorithm\n",
    "model_name = 'ExtraTrees'\n",
    "\n",
    "# CV error\n",
    "error_cv = 0\n",
    "\n",
    "# Loop through each possible testing fold\n",
    "for train_index, test_index in kf.split(dataset):\n",
    "    \n",
    "    # Divide dataset according to folds\n",
    "    dataset_train = pd.DataFrame(dataset, index=train_index)\n",
    "    dataset_test = pd.DataFrame(dataset, index=test_index)\n",
    "        \n",
    "    # Obtain input and output matrices\n",
    "    train_y = dataset_train['weeklySales']\n",
    "    train_x = dataset_train.drop(columns=['weeklySales'])\n",
    "    test_y = dataset_test['weeklySales']\n",
    "    test_x = dataset_test.drop(columns=['weeklySales'])\n",
    "    \n",
    "    # Train our model\n",
    "    model = train_model(train_x, train_y)\n",
    "    \n",
    "    # Use our model to make predictions on testing set\n",
    "    predicted = predict(model, test_x)\n",
    "    \n",
    "    # Calculate weighted mean error\n",
    "    weights = test_x['isHoliday'].replace(True, 5).replace(False, 1)\n",
    "    error = calculate_error(test_y, predicted, weights)\n",
    "    print(error)\n",
    "    \n",
    "    # Accumulate all errors in error_cv\n",
    "    error_cv += error\n",
    "    \n",
    "# Divide by number of folds\n",
    "error_cv /= 5\n",
    "\n",
    "error_cv"
   ]
  },
  {
   "cell_type": "code",
   "execution_count": 15,
   "metadata": {},
   "outputs": [
    {
     "name": "stderr",
     "output_type": "stream",
     "text": [
      "[Parallel(n_jobs=1)]: Using backend SequentialBackend with 1 concurrent workers.\n",
      "[Parallel(n_jobs=1)]: Done 100 out of 100 | elapsed:    7.0s finished\n"
     ]
    },
    {
     "data": {
      "image/png": "[encoded data removed]",
      "text/plain": [
       "<Figure size 432x288 with 1 Axes>"
      ]
     },
     "metadata": {},
     "output_type": "display_data"
    }
   ],
   "source": [
    "# Get predictions on training dataset\n",
    "dataset2pred = dataset.drop(columns=['weeklySales'])\n",
    "predicted = predict(model, dataset2pred)\n",
    "\n",
    "# Plot actual outputs and our predictions for first 100 examples\n",
    "plt.plot(dataset['weeklySales'][:100], 'bo')\n",
    "plt.plot(np.array(predicted[:100]), 'ro')\n",
    "plt.ylabel('Weekly Sales')\n",
    "plt.xlabel('Indexes')\n",
    "plt.show()"
   ]
  },
  {
   "cell_type": "markdown",
   "metadata": {},
   "source": [
    "### 4.4. Random Forest Regressor"
   ]
  },
  {
   "cell_type": "code",
   "execution_count": 16,
   "metadata": {},
   "outputs": [
    {
     "name": "stderr",
     "output_type": "stream",
     "text": [
      "[Parallel(n_jobs=1)]: Using backend SequentialBackend with 1 concurrent workers.\n",
      "[Parallel(n_jobs=1)]: Done 100 out of 100 | elapsed:  2.1min finished\n",
      "[Parallel(n_jobs=1)]: Using backend SequentialBackend with 1 concurrent workers.\n",
      "[Parallel(n_jobs=1)]: Done 100 out of 100 | elapsed:    1.8s finished\n"
     ]
    },
    {
     "name": "stdout",
     "output_type": "stream",
     "text": [
      "2633.2949634818237\n"
     ]
    },
    {
     "name": "stderr",
     "output_type": "stream",
     "text": [
      "[Parallel(n_jobs=1)]: Using backend SequentialBackend with 1 concurrent workers.\n",
      "[Parallel(n_jobs=1)]: Done 100 out of 100 | elapsed:  2.1min finished\n",
      "[Parallel(n_jobs=1)]: Using backend SequentialBackend with 1 concurrent workers.\n",
      "[Parallel(n_jobs=1)]: Done 100 out of 100 | elapsed:    1.7s finished\n"
     ]
    },
    {
     "name": "stdout",
     "output_type": "stream",
     "text": [
      "2747.4126521420594\n"
     ]
    },
    {
     "name": "stderr",
     "output_type": "stream",
     "text": [
      "[Parallel(n_jobs=1)]: Using backend SequentialBackend with 1 concurrent workers.\n",
      "[Parallel(n_jobs=1)]: Done 100 out of 100 | elapsed:  2.3min finished\n",
      "[Parallel(n_jobs=1)]: Using backend SequentialBackend with 1 concurrent workers.\n",
      "[Parallel(n_jobs=1)]: Done 100 out of 100 | elapsed:    1.9s finished\n"
     ]
    },
    {
     "name": "stdout",
     "output_type": "stream",
     "text": [
      "2553.058597328724\n"
     ]
    },
    {
     "name": "stderr",
     "output_type": "stream",
     "text": [
      "[Parallel(n_jobs=1)]: Using backend SequentialBackend with 1 concurrent workers.\n",
      "[Parallel(n_jobs=1)]: Done 100 out of 100 | elapsed:  2.4min finished\n",
      "[Parallel(n_jobs=1)]: Using backend SequentialBackend with 1 concurrent workers.\n",
      "[Parallel(n_jobs=1)]: Done 100 out of 100 | elapsed:    1.9s finished\n"
     ]
    },
    {
     "name": "stdout",
     "output_type": "stream",
     "text": [
      "2628.4543244598617\n"
     ]
    },
    {
     "name": "stderr",
     "output_type": "stream",
     "text": [
      "[Parallel(n_jobs=1)]: Using backend SequentialBackend with 1 concurrent workers.\n",
      "[Parallel(n_jobs=1)]: Done 100 out of 100 | elapsed:  2.0min finished\n",
      "[Parallel(n_jobs=1)]: Using backend SequentialBackend with 1 concurrent workers.\n"
     ]
    },
    {
     "name": "stdout",
     "output_type": "stream",
     "text": [
      "2712.1329012333476\n"
     ]
    },
    {
     "name": "stderr",
     "output_type": "stream",
     "text": [
      "[Parallel(n_jobs=1)]: Done 100 out of 100 | elapsed:    1.6s finished\n"
     ]
    },
    {
     "data": {
      "text/plain": [
       "2654.8706877291634"
      ]
     },
     "execution_count": 16,
     "metadata": {},
     "output_type": "execute_result"
    }
   ],
   "source": [
    "# Run Random Forest Regressor algorithm\n",
    "model_name = 'RandomForest'\n",
    "\n",
    "# CV error\n",
    "error_cv = 0\n",
    "\n",
    "# Loop through each possible testing fold\n",
    "for train_index, test_index in kf.split(dataset):\n",
    "    \n",
    "    # Divide dataset according to folds\n",
    "    dataset_train = pd.DataFrame(dataset, index=train_index)\n",
    "    dataset_test = pd.DataFrame(dataset, index=test_index)\n",
    "        \n",
    "    # Obtain input and output matrices\n",
    "    train_y = dataset_train['weeklySales']\n",
    "    train_x = dataset_train.drop(columns=['weeklySales'])\n",
    "    test_y = dataset_test['weeklySales']\n",
    "    test_x = dataset_test.drop(columns=['weeklySales'])\n",
    "    \n",
    "    # Train our model\n",
    "    model = train_model(train_x, train_y)\n",
    "    \n",
    "    # Use our model to make predictions on testing set\n",
    "    predicted = predict(model, test_x)\n",
    "    \n",
    "    # Calculate weighted mean error\n",
    "    weights = test_x['isHoliday'].replace(True, 5).replace(False, 1)\n",
    "    error = calculate_error(test_y, predicted, weights)\n",
    "    print(error)\n",
    "    \n",
    "    # Accumulate all errors in error_cv\n",
    "    error_cv += error\n",
    "    \n",
    "# Divide by number of folds\n",
    "error_cv /= 5\n",
    "\n",
    "error_cv"
   ]
  },
  {
   "cell_type": "code",
   "execution_count": 17,
   "metadata": {
    "scrolled": true
   },
   "outputs": [
    {
     "name": "stderr",
     "output_type": "stream",
     "text": [
      "[Parallel(n_jobs=1)]: Using backend SequentialBackend with 1 concurrent workers.\n",
      "[Parallel(n_jobs=1)]: Done 100 out of 100 | elapsed:    6.2s finished\n"
     ]
    },
    {
     "data": {
      "image/png": "[encoded data removed]",
      "text/plain": [
       "<Figure size 432x288 with 1 Axes>"
      ]
     },
     "metadata": {},
     "output_type": "display_data"
    }
   ],
   "source": [
    "# Get predictions on training dataset\n",
    "dataset2pred = dataset.drop(columns=['weeklySales'])\n",
    "predicted = predict(model, dataset2pred)\n",
    "\n",
    "# Plot actual outputs and our predictions for first 100 examples\n",
    "plt.plot(dataset['weeklySales'][:100], 'bo')\n",
    "plt.plot(np.array(predicted[:100]), 'ro')\n",
    "plt.ylabel('Weekly Sales')\n",
    "plt.xlabel('Indexes')\n",
    "plt.show()"
   ]
  },
  {
   "cell_type": "markdown",
   "metadata": {},
   "source": [
    "## 5. Select hyperparameters\n",
    "### 5.1. Choosing n_estimators"
   ]
  },
  {
   "cell_type": "code",
   "execution_count": 18,
   "metadata": {},
   "outputs": [
    {
     "name": "stderr",
     "output_type": "stream",
     "text": [
      "[Parallel(n_jobs=1)]: Using backend SequentialBackend with 1 concurrent workers.\n",
      "[Parallel(n_jobs=1)]: Done  50 out of  50 | elapsed:  1.0min finished\n",
      "[Parallel(n_jobs=1)]: Using backend SequentialBackend with 1 concurrent workers.\n",
      "[Parallel(n_jobs=1)]: Done  50 out of  50 | elapsed:    0.9s finished\n"
     ]
    },
    {
     "name": "stdout",
     "output_type": "stream",
     "text": [
      "2768.3010965370036\n"
     ]
    },
    {
     "name": "stderr",
     "output_type": "stream",
     "text": [
      "[Parallel(n_jobs=1)]: Using backend SequentialBackend with 1 concurrent workers.\n",
      "[Parallel(n_jobs=1)]: Done  50 out of  50 | elapsed:  1.0min finished\n",
      "[Parallel(n_jobs=1)]: Using backend SequentialBackend with 1 concurrent workers.\n",
      "[Parallel(n_jobs=1)]: Done  50 out of  50 | elapsed:    0.8s finished\n"
     ]
    },
    {
     "name": "stdout",
     "output_type": "stream",
     "text": [
      "2740.4838446857557\n"
     ]
    },
    {
     "name": "stderr",
     "output_type": "stream",
     "text": [
      "[Parallel(n_jobs=1)]: Using backend SequentialBackend with 1 concurrent workers.\n",
      "[Parallel(n_jobs=1)]: Done  50 out of  50 | elapsed:   56.3s finished\n",
      "[Parallel(n_jobs=1)]: Using backend SequentialBackend with 1 concurrent workers.\n",
      "[Parallel(n_jobs=1)]: Done  50 out of  50 | elapsed:    0.7s finished\n"
     ]
    },
    {
     "name": "stdout",
     "output_type": "stream",
     "text": [
      "2600.036577609264\n"
     ]
    },
    {
     "name": "stderr",
     "output_type": "stream",
     "text": [
      "[Parallel(n_jobs=1)]: Using backend SequentialBackend with 1 concurrent workers.\n",
      "[Parallel(n_jobs=1)]: Done  50 out of  50 | elapsed:   58.0s finished\n",
      "[Parallel(n_jobs=1)]: Using backend SequentialBackend with 1 concurrent workers.\n",
      "[Parallel(n_jobs=1)]: Done  50 out of  50 | elapsed:    0.8s finished\n"
     ]
    },
    {
     "name": "stdout",
     "output_type": "stream",
     "text": [
      "2607.7524392411706\n"
     ]
    },
    {
     "name": "stderr",
     "output_type": "stream",
     "text": [
      "[Parallel(n_jobs=1)]: Using backend SequentialBackend with 1 concurrent workers.\n",
      "[Parallel(n_jobs=1)]: Done  50 out of  50 | elapsed:   59.7s finished\n",
      "[Parallel(n_jobs=1)]: Using backend SequentialBackend with 1 concurrent workers.\n"
     ]
    },
    {
     "name": "stdout",
     "output_type": "stream",
     "text": [
      "2593.275578568075\n"
     ]
    },
    {
     "name": "stderr",
     "output_type": "stream",
     "text": [
      "[Parallel(n_jobs=1)]: Done  50 out of  50 | elapsed:    0.7s finished\n"
     ]
    },
    {
     "data": {
      "text/plain": [
       "2661.9699073282536"
      ]
     },
     "execution_count": 18,
     "metadata": {},
     "output_type": "execute_result"
    }
   ],
   "source": [
    "# Run neyral network\n",
    "model_name = RandomForestRegressor(n_estimators=50, verbose=1)\n",
    "\n",
    "# CV error\n",
    "error_cv = 0\n",
    "\n",
    "# Loop through each possible testing fold\n",
    "for train_index, test_index in kf.split(dataset):\n",
    "    \n",
    "    # Divide dataset according to folds\n",
    "    dataset_train = pd.DataFrame(dataset, index=train_index)\n",
    "    dataset_test = pd.DataFrame(dataset, index=test_index)\n",
    "        \n",
    "    # Obtain input and output matrices\n",
    "    train_y = dataset_train['weeklySales']\n",
    "    train_x = dataset_train.drop(columns=['weeklySales'])\n",
    "    test_y = dataset_test['weeklySales']\n",
    "    test_x = dataset_test.drop(columns=['weeklySales'])\n",
    "    \n",
    "    # Train our model\n",
    "    model = train_model(train_x, train_y)\n",
    "    \n",
    "    # Use our model to make predictions on testing set\n",
    "    predicted = predict(model, test_x)\n",
    "    \n",
    "    # Calculate weighted mean error\n",
    "    weights = test_x['isHoliday'].replace(True, 5).replace(False, 1)\n",
    "    error = calculate_error(test_y, predicted, weights)\n",
    "    print(error)\n",
    "    \n",
    "    # Accumulate all errors in error_cv\n",
    "    error_cv += error\n",
    "    \n",
    "# Divide by number of folds\n",
    "error_cv /= 5\n",
    "\n",
    "error_cv"
   ]
  },
  {
   "cell_type": "code",
   "execution_count": 19,
   "metadata": {},
   "outputs": [
    {
     "name": "stderr",
     "output_type": "stream",
     "text": [
      "[Parallel(n_jobs=1)]: Using backend SequentialBackend with 1 concurrent workers.\n",
      "[Parallel(n_jobs=1)]: Done 100 out of 100 | elapsed:  1.9min finished\n",
      "[Parallel(n_jobs=1)]: Using backend SequentialBackend with 1 concurrent workers.\n",
      "[Parallel(n_jobs=1)]: Done 100 out of 100 | elapsed:    1.6s finished\n"
     ]
    },
    {
     "name": "stdout",
     "output_type": "stream",
     "text": [
      "2583.2428765729137\n"
     ]
    },
    {
     "name": "stderr",
     "output_type": "stream",
     "text": [
      "[Parallel(n_jobs=1)]: Using backend SequentialBackend with 1 concurrent workers.\n",
      "[Parallel(n_jobs=1)]: Done 100 out of 100 | elapsed:  2.1min finished\n",
      "[Parallel(n_jobs=1)]: Using backend SequentialBackend with 1 concurrent workers.\n",
      "[Parallel(n_jobs=1)]: Done 100 out of 100 | elapsed:    1.9s finished\n"
     ]
    },
    {
     "name": "stdout",
     "output_type": "stream",
     "text": [
      "2429.6280056040628\n"
     ]
    },
    {
     "name": "stderr",
     "output_type": "stream",
     "text": [
      "[Parallel(n_jobs=1)]: Using backend SequentialBackend with 1 concurrent workers.\n",
      "[Parallel(n_jobs=1)]: Done 100 out of 100 | elapsed:  2.0min finished\n",
      "[Parallel(n_jobs=1)]: Using backend SequentialBackend with 1 concurrent workers.\n",
      "[Parallel(n_jobs=1)]: Done 100 out of 100 | elapsed:    1.5s finished\n"
     ]
    },
    {
     "name": "stdout",
     "output_type": "stream",
     "text": [
      "2617.2180975299343\n"
     ]
    },
    {
     "name": "stderr",
     "output_type": "stream",
     "text": [
      "[Parallel(n_jobs=1)]: Using backend SequentialBackend with 1 concurrent workers.\n",
      "[Parallel(n_jobs=1)]: Done 100 out of 100 | elapsed:  2.0min finished\n",
      "[Parallel(n_jobs=1)]: Using backend SequentialBackend with 1 concurrent workers.\n",
      "[Parallel(n_jobs=1)]: Done 100 out of 100 | elapsed:    1.5s finished\n"
     ]
    },
    {
     "name": "stdout",
     "output_type": "stream",
     "text": [
      "2836.94787292916\n"
     ]
    },
    {
     "name": "stderr",
     "output_type": "stream",
     "text": [
      "[Parallel(n_jobs=1)]: Using backend SequentialBackend with 1 concurrent workers.\n",
      "[Parallel(n_jobs=1)]: Done 100 out of 100 | elapsed:  1.9min finished\n",
      "[Parallel(n_jobs=1)]: Using backend SequentialBackend with 1 concurrent workers.\n"
     ]
    },
    {
     "name": "stdout",
     "output_type": "stream",
     "text": [
      "2844.1364831010724\n"
     ]
    },
    {
     "name": "stderr",
     "output_type": "stream",
     "text": [
      "[Parallel(n_jobs=1)]: Done 100 out of 100 | elapsed:    1.6s finished\n"
     ]
    },
    {
     "data": {
      "text/plain": [
       "2662.234667147429"
      ]
     },
     "execution_count": 19,
     "metadata": {},
     "output_type": "execute_result"
    }
   ],
   "source": [
    "# Run neyral network\n",
    "model_name = RandomForestRegressor(n_estimators=100, verbose=1)\n",
    "\n",
    "# CV error\n",
    "error_cv = 0\n",
    "\n",
    "# Loop through each possible testing fold\n",
    "for train_index, test_index in kf.split(dataset):\n",
    "    \n",
    "    # Divide dataset according to folds\n",
    "    dataset_train = pd.DataFrame(dataset, index=train_index)\n",
    "    dataset_test = pd.DataFrame(dataset, index=test_index)\n",
    "        \n",
    "    # Obtain input and output matrices\n",
    "    train_y = dataset_train['weeklySales']\n",
    "    train_x = dataset_train.drop(columns=['weeklySales'])\n",
    "    test_y = dataset_test['weeklySales']\n",
    "    test_x = dataset_test.drop(columns=['weeklySales'])\n",
    "    \n",
    "    # Train our model\n",
    "    model = train_model(train_x, train_y)\n",
    "    \n",
    "    # Use our model to make predictions on testing set\n",
    "    predicted = predict(model, test_x)\n",
    "    \n",
    "    # Calculate weighted mean error\n",
    "    weights = test_x['isHoliday'].replace(True, 5).replace(False, 1)\n",
    "    error = calculate_error(test_y, predicted, weights)\n",
    "    print(error)\n",
    "    \n",
    "    # Accumulate all errors in error_cv\n",
    "    error_cv += error\n",
    "    \n",
    "# Divide by number of folds\n",
    "error_cv /= 5\n",
    "\n",
    "error_cv"
   ]
  },
  {
   "cell_type": "code",
   "execution_count": 20,
   "metadata": {},
   "outputs": [
    {
     "name": "stderr",
     "output_type": "stream",
     "text": [
      "[Parallel(n_jobs=1)]: Using backend SequentialBackend with 1 concurrent workers.\n",
      "[Parallel(n_jobs=1)]: Done 150 out of 150 | elapsed:  3.0min finished\n",
      "[Parallel(n_jobs=1)]: Using backend SequentialBackend with 1 concurrent workers.\n",
      "[Parallel(n_jobs=1)]: Done 150 out of 150 | elapsed:    2.5s finished\n"
     ]
    },
    {
     "name": "stdout",
     "output_type": "stream",
     "text": [
      "2515.702453483989\n"
     ]
    },
    {
     "name": "stderr",
     "output_type": "stream",
     "text": [
      "[Parallel(n_jobs=1)]: Using backend SequentialBackend with 1 concurrent workers.\n",
      "[Parallel(n_jobs=1)]: Done 150 out of 150 | elapsed:  3.0min finished\n",
      "[Parallel(n_jobs=1)]: Using backend SequentialBackend with 1 concurrent workers.\n",
      "[Parallel(n_jobs=1)]: Done 150 out of 150 | elapsed:    2.3s finished\n"
     ]
    },
    {
     "name": "stdout",
     "output_type": "stream",
     "text": [
      "2793.1746069555707\n"
     ]
    },
    {
     "name": "stderr",
     "output_type": "stream",
     "text": [
      "[Parallel(n_jobs=1)]: Using backend SequentialBackend with 1 concurrent workers.\n",
      "[Parallel(n_jobs=1)]: Done 150 out of 150 | elapsed:  2.7min finished\n",
      "[Parallel(n_jobs=1)]: Using backend SequentialBackend with 1 concurrent workers.\n",
      "[Parallel(n_jobs=1)]: Done 150 out of 150 | elapsed:    2.3s finished\n"
     ]
    },
    {
     "name": "stdout",
     "output_type": "stream",
     "text": [
      "2748.316228404509\n"
     ]
    },
    {
     "name": "stderr",
     "output_type": "stream",
     "text": [
      "[Parallel(n_jobs=1)]: Using backend SequentialBackend with 1 concurrent workers.\n",
      "[Parallel(n_jobs=1)]: Done 150 out of 150 | elapsed:  2.7min finished\n",
      "[Parallel(n_jobs=1)]: Using backend SequentialBackend with 1 concurrent workers.\n",
      "[Parallel(n_jobs=1)]: Done 150 out of 150 | elapsed:    2.4s finished\n"
     ]
    },
    {
     "name": "stdout",
     "output_type": "stream",
     "text": [
      "2534.816122617009\n"
     ]
    },
    {
     "name": "stderr",
     "output_type": "stream",
     "text": [
      "[Parallel(n_jobs=1)]: Using backend SequentialBackend with 1 concurrent workers.\n",
      "[Parallel(n_jobs=1)]: Done 150 out of 150 | elapsed:  2.7min finished\n",
      "[Parallel(n_jobs=1)]: Using backend SequentialBackend with 1 concurrent workers.\n"
     ]
    },
    {
     "name": "stdout",
     "output_type": "stream",
     "text": [
      "2718.8165346986543\n"
     ]
    },
    {
     "name": "stderr",
     "output_type": "stream",
     "text": [
      "[Parallel(n_jobs=1)]: Done 150 out of 150 | elapsed:    2.3s finished\n"
     ]
    },
    {
     "data": {
      "text/plain": [
       "2662.165189231946"
      ]
     },
     "execution_count": 20,
     "metadata": {},
     "output_type": "execute_result"
    }
   ],
   "source": [
    "# Run neural network\n",
    "model_name = RandomForestRegressor(n_estimators=150, verbose=1)\n",
    "\n",
    "# CV error\n",
    "error_cv = 0\n",
    "\n",
    "# Loop through each possible testing fold\n",
    "for train_index, test_index in kf.split(dataset):\n",
    "    \n",
    "    # Divide dataset according to folds\n",
    "    dataset_train = pd.DataFrame(dataset, index=train_index)\n",
    "    dataset_test = pd.DataFrame(dataset, index=test_index)\n",
    "        \n",
    "    # Obtain input and output matrices\n",
    "    train_y = dataset_train['weeklySales']\n",
    "    train_x = dataset_train.drop(columns=['weeklySales'])\n",
    "    test_y = dataset_test['weeklySales']\n",
    "    test_x = dataset_test.drop(columns=['weeklySales'])\n",
    "    \n",
    "    # Train our model\n",
    "    model = train_model(train_x, train_y)\n",
    "    \n",
    "    # Use our model to make predictions on testing set\n",
    "    predicted = predict(model, test_x)\n",
    "    \n",
    "    # Calculate weighted mean error\n",
    "    weights = test_x['isHoliday'].replace(True, 5).replace(False, 1)\n",
    "    error = calculate_error(test_y, predicted, weights)\n",
    "    print(error)\n",
    "    \n",
    "    # Accumulate all errors in error_cv\n",
    "    error_cv += error\n",
    "    \n",
    "# Divide by number of folds\n",
    "error_cv /= 5\n",
    "\n",
    "error_cv"
   ]
  },
  {
   "cell_type": "markdown",
   "metadata": {},
   "source": [
    "### 5.2. Choosing max_depth"
   ]
  },
  {
   "cell_type": "code",
   "execution_count": 21,
   "metadata": {},
   "outputs": [
    {
     "name": "stderr",
     "output_type": "stream",
     "text": [
      "[Parallel(n_jobs=1)]: Using backend SequentialBackend with 1 concurrent workers.\n",
      "[Parallel(n_jobs=1)]: Done 100 out of 100 | elapsed:   49.1s finished\n",
      "[Parallel(n_jobs=1)]: Using backend SequentialBackend with 1 concurrent workers.\n",
      "[Parallel(n_jobs=1)]: Done 100 out of 100 | elapsed:    0.2s finished\n"
     ]
    },
    {
     "name": "stdout",
     "output_type": "stream",
     "text": [
      "5943.836344764696\n"
     ]
    },
    {
     "name": "stderr",
     "output_type": "stream",
     "text": [
      "[Parallel(n_jobs=1)]: Using backend SequentialBackend with 1 concurrent workers.\n",
      "[Parallel(n_jobs=1)]: Done 100 out of 100 | elapsed:   48.7s finished\n",
      "[Parallel(n_jobs=1)]: Using backend SequentialBackend with 1 concurrent workers.\n",
      "[Parallel(n_jobs=1)]: Done 100 out of 100 | elapsed:    0.2s finished\n"
     ]
    },
    {
     "name": "stdout",
     "output_type": "stream",
     "text": [
      "5958.215345969603\n"
     ]
    },
    {
     "name": "stderr",
     "output_type": "stream",
     "text": [
      "[Parallel(n_jobs=1)]: Using backend SequentialBackend with 1 concurrent workers.\n",
      "[Parallel(n_jobs=1)]: Done 100 out of 100 | elapsed:   48.7s finished\n",
      "[Parallel(n_jobs=1)]: Using backend SequentialBackend with 1 concurrent workers.\n",
      "[Parallel(n_jobs=1)]: Done 100 out of 100 | elapsed:    0.2s finished\n"
     ]
    },
    {
     "name": "stdout",
     "output_type": "stream",
     "text": [
      "5822.412748723269\n"
     ]
    },
    {
     "name": "stderr",
     "output_type": "stream",
     "text": [
      "[Parallel(n_jobs=1)]: Using backend SequentialBackend with 1 concurrent workers.\n",
      "[Parallel(n_jobs=1)]: Done 100 out of 100 | elapsed:   50.5s finished\n",
      "[Parallel(n_jobs=1)]: Using backend SequentialBackend with 1 concurrent workers.\n",
      "[Parallel(n_jobs=1)]: Done 100 out of 100 | elapsed:    0.2s finished\n"
     ]
    },
    {
     "name": "stdout",
     "output_type": "stream",
     "text": [
      "6120.847086462594\n"
     ]
    },
    {
     "name": "stderr",
     "output_type": "stream",
     "text": [
      "[Parallel(n_jobs=1)]: Using backend SequentialBackend with 1 concurrent workers.\n",
      "[Parallel(n_jobs=1)]: Done 100 out of 100 | elapsed:   49.4s finished\n",
      "[Parallel(n_jobs=1)]: Using backend SequentialBackend with 1 concurrent workers.\n"
     ]
    },
    {
     "name": "stdout",
     "output_type": "stream",
     "text": [
      "5812.037153091983\n"
     ]
    },
    {
     "name": "stderr",
     "output_type": "stream",
     "text": [
      "[Parallel(n_jobs=1)]: Done 100 out of 100 | elapsed:    0.2s finished\n"
     ]
    },
    {
     "data": {
      "text/plain": [
       "5931.469735802429"
      ]
     },
     "execution_count": 21,
     "metadata": {},
     "output_type": "execute_result"
    }
   ],
   "source": [
    "# Run neyral network\n",
    "model_name = RandomForestRegressor(n_estimators=100, max_depth=9, verbose=1)\n",
    "\n",
    "# CV error\n",
    "error_cv = 0\n",
    "\n",
    "# Loop through each possible testing fold\n",
    "for train_index, test_index in kf.split(dataset):\n",
    "    \n",
    "    # Divide dataset according to folds\n",
    "    dataset_train = pd.DataFrame(dataset, index=train_index)\n",
    "    dataset_test = pd.DataFrame(dataset, index=test_index)\n",
    "        \n",
    "    # Obtain input and output matrices\n",
    "    train_y = dataset_train['weeklySales']\n",
    "    train_x = dataset_train.drop(columns=['weeklySales'])\n",
    "    test_y = dataset_test['weeklySales']\n",
    "    test_x = dataset_test.drop(columns=['weeklySales'])\n",
    "    \n",
    "    # Train our model\n",
    "    model = train_model(train_x, train_y)\n",
    "    \n",
    "    # Use our model to make predictions on testing set\n",
    "    predicted = predict(model, test_x)\n",
    "    \n",
    "    # Calculate weighted mean error\n",
    "    weights = test_x['isHoliday'].replace(True, 5).replace(False, 1)\n",
    "    error = calculate_error(test_y, predicted, weights)\n",
    "    print(error)\n",
    "    \n",
    "    # Accumulate all errors in error_cv\n",
    "    error_cv += error\n",
    "    \n",
    "# Divide by number of folds\n",
    "error_cv /= 5\n",
    "\n",
    "error_cv"
   ]
  },
  {
   "cell_type": "code",
   "execution_count": 22,
   "metadata": {},
   "outputs": [
    {
     "name": "stderr",
     "output_type": "stream",
     "text": [
      "[Parallel(n_jobs=1)]: Using backend SequentialBackend with 1 concurrent workers.\n",
      "[Parallel(n_jobs=1)]: Done 100 out of 100 | elapsed:  1.3min finished\n",
      "[Parallel(n_jobs=1)]: Using backend SequentialBackend with 1 concurrent workers.\n",
      "[Parallel(n_jobs=1)]: Done 100 out of 100 | elapsed:    0.6s finished\n"
     ]
    },
    {
     "name": "stdout",
     "output_type": "stream",
     "text": [
      "3111.4380042054804\n"
     ]
    },
    {
     "name": "stderr",
     "output_type": "stream",
     "text": [
      "[Parallel(n_jobs=1)]: Using backend SequentialBackend with 1 concurrent workers.\n",
      "[Parallel(n_jobs=1)]: Done 100 out of 100 | elapsed:  1.3min finished\n",
      "[Parallel(n_jobs=1)]: Using backend SequentialBackend with 1 concurrent workers.\n",
      "[Parallel(n_jobs=1)]: Done 100 out of 100 | elapsed:    0.6s finished\n"
     ]
    },
    {
     "name": "stdout",
     "output_type": "stream",
     "text": [
      "3048.8250231770103\n"
     ]
    },
    {
     "name": "stderr",
     "output_type": "stream",
     "text": [
      "[Parallel(n_jobs=1)]: Using backend SequentialBackend with 1 concurrent workers.\n",
      "[Parallel(n_jobs=1)]: Done 100 out of 100 | elapsed:  1.3min finished\n",
      "[Parallel(n_jobs=1)]: Using backend SequentialBackend with 1 concurrent workers.\n",
      "[Parallel(n_jobs=1)]: Done 100 out of 100 | elapsed:    0.6s finished\n"
     ]
    },
    {
     "name": "stdout",
     "output_type": "stream",
     "text": [
      "3174.4295552221033\n"
     ]
    },
    {
     "name": "stderr",
     "output_type": "stream",
     "text": [
      "[Parallel(n_jobs=1)]: Using backend SequentialBackend with 1 concurrent workers.\n",
      "[Parallel(n_jobs=1)]: Done 100 out of 100 | elapsed:  1.3min finished\n",
      "[Parallel(n_jobs=1)]: Using backend SequentialBackend with 1 concurrent workers.\n",
      "[Parallel(n_jobs=1)]: Done 100 out of 100 | elapsed:    0.6s finished\n"
     ]
    },
    {
     "name": "stdout",
     "output_type": "stream",
     "text": [
      "3083.2930998990946\n"
     ]
    },
    {
     "name": "stderr",
     "output_type": "stream",
     "text": [
      "[Parallel(n_jobs=1)]: Using backend SequentialBackend with 1 concurrent workers.\n",
      "[Parallel(n_jobs=1)]: Done 100 out of 100 | elapsed:  1.3min finished\n",
      "[Parallel(n_jobs=1)]: Using backend SequentialBackend with 1 concurrent workers.\n"
     ]
    },
    {
     "name": "stdout",
     "output_type": "stream",
     "text": [
      "3295.4525501878256\n"
     ]
    },
    {
     "name": "stderr",
     "output_type": "stream",
     "text": [
      "[Parallel(n_jobs=1)]: Done 100 out of 100 | elapsed:    0.6s finished\n"
     ]
    },
    {
     "data": {
      "text/plain": [
       "3142.6876465383025"
      ]
     },
     "execution_count": 22,
     "metadata": {},
     "output_type": "execute_result"
    }
   ],
   "source": [
    "# Run neyral network\n",
    "model_name = RandomForestRegressor(n_estimators=100, max_depth=15, verbose=1)\n",
    "\n",
    "# CV error\n",
    "error_cv = 0\n",
    "\n",
    "# Loop through each possible testing fold\n",
    "for train_index, test_index in kf.split(dataset):\n",
    "    \n",
    "    # Divide dataset according to folds\n",
    "    dataset_train = pd.DataFrame(dataset, index=train_index)\n",
    "    dataset_test = pd.DataFrame(dataset, index=test_index)\n",
    "        \n",
    "    # Obtain input and output matrices\n",
    "    train_y = dataset_train['weeklySales']\n",
    "    train_x = dataset_train.drop(columns=['weeklySales'])\n",
    "    test_y = dataset_test['weeklySales']\n",
    "    test_x = dataset_test.drop(columns=['weeklySales'])\n",
    "    \n",
    "    # Train our model\n",
    "    model = train_model(train_x, train_y)\n",
    "    \n",
    "    # Use our model to make predictions on testing set\n",
    "    predicted = predict(model, test_x)\n",
    "    \n",
    "    # Calculate weighted mean error\n",
    "    weights = test_x['isHoliday'].replace(True, 5).replace(False, 1)\n",
    "    error = calculate_error(test_y, predicted, weights)\n",
    "    print(error)\n",
    "    \n",
    "    # Accumulate all errors in error_cv\n",
    "    error_cv += error\n",
    "    \n",
    "# Divide by number of folds\n",
    "error_cv /= 5\n",
    "\n",
    "error_cv"
   ]
  },
  {
   "cell_type": "code",
   "execution_count": 23,
   "metadata": {},
   "outputs": [
    {
     "name": "stderr",
     "output_type": "stream",
     "text": [
      "[Parallel(n_jobs=1)]: Using backend SequentialBackend with 1 concurrent workers.\n",
      "[Parallel(n_jobs=1)]: Done 100 out of 100 | elapsed:  1.7min finished\n",
      "[Parallel(n_jobs=1)]: Using backend SequentialBackend with 1 concurrent workers.\n",
      "[Parallel(n_jobs=1)]: Done 100 out of 100 | elapsed:    1.3s finished\n"
     ]
    },
    {
     "name": "stdout",
     "output_type": "stream",
     "text": [
      "2722.2759429305397\n"
     ]
    },
    {
     "name": "stderr",
     "output_type": "stream",
     "text": [
      "[Parallel(n_jobs=1)]: Using backend SequentialBackend with 1 concurrent workers.\n",
      "[Parallel(n_jobs=1)]: Done 100 out of 100 | elapsed:  1.7min finished\n",
      "[Parallel(n_jobs=1)]: Using backend SequentialBackend with 1 concurrent workers.\n",
      "[Parallel(n_jobs=1)]: Done 100 out of 100 | elapsed:    1.2s finished\n"
     ]
    },
    {
     "name": "stdout",
     "output_type": "stream",
     "text": [
      "2717.314916078953\n"
     ]
    },
    {
     "name": "stderr",
     "output_type": "stream",
     "text": [
      "[Parallel(n_jobs=1)]: Using backend SequentialBackend with 1 concurrent workers.\n",
      "[Parallel(n_jobs=1)]: Done 100 out of 100 | elapsed:  1.7min finished\n",
      "[Parallel(n_jobs=1)]: Using backend SequentialBackend with 1 concurrent workers.\n",
      "[Parallel(n_jobs=1)]: Done 100 out of 100 | elapsed:    1.3s finished\n"
     ]
    },
    {
     "name": "stdout",
     "output_type": "stream",
     "text": [
      "2459.8529349520722\n"
     ]
    },
    {
     "name": "stderr",
     "output_type": "stream",
     "text": [
      "[Parallel(n_jobs=1)]: Using backend SequentialBackend with 1 concurrent workers.\n",
      "[Parallel(n_jobs=1)]: Done 100 out of 100 | elapsed:  1.7min finished\n",
      "[Parallel(n_jobs=1)]: Using backend SequentialBackend with 1 concurrent workers.\n",
      "[Parallel(n_jobs=1)]: Done 100 out of 100 | elapsed:    1.2s finished\n"
     ]
    },
    {
     "name": "stdout",
     "output_type": "stream",
     "text": [
      "2647.4042003466907\n"
     ]
    },
    {
     "name": "stderr",
     "output_type": "stream",
     "text": [
      "[Parallel(n_jobs=1)]: Using backend SequentialBackend with 1 concurrent workers.\n",
      "[Parallel(n_jobs=1)]: Done 100 out of 100 | elapsed:  1.7min finished\n",
      "[Parallel(n_jobs=1)]: Using backend SequentialBackend with 1 concurrent workers.\n"
     ]
    },
    {
     "name": "stdout",
     "output_type": "stream",
     "text": [
      "2726.784805905231\n"
     ]
    },
    {
     "name": "stderr",
     "output_type": "stream",
     "text": [
      "[Parallel(n_jobs=1)]: Done 100 out of 100 | elapsed:    1.2s finished\n"
     ]
    },
    {
     "data": {
      "text/plain": [
       "2654.726560042697"
      ]
     },
     "execution_count": 23,
     "metadata": {},
     "output_type": "execute_result"
    }
   ],
   "source": [
    "# Run neyral network\n",
    "model_name = RandomForestRegressor(n_estimators=100, max_depth=22, verbose=1)\n",
    "\n",
    "# CV error\n",
    "error_cv = 0\n",
    "\n",
    "# Loop through each possible testing fold\n",
    "for train_index, test_index in kf.split(dataset):\n",
    "    \n",
    "    # Divide dataset according to folds\n",
    "    dataset_train = pd.DataFrame(dataset, index=train_index)\n",
    "    dataset_test = pd.DataFrame(dataset, index=test_index)\n",
    "        \n",
    "    # Obtain input and output matrices\n",
    "    train_y = dataset_train['weeklySales']\n",
    "    train_x = dataset_train.drop(columns=['weeklySales'])\n",
    "    test_y = dataset_test['weeklySales']\n",
    "    test_x = dataset_test.drop(columns=['weeklySales'])\n",
    "    \n",
    "    # Train our model\n",
    "    model = train_model(train_x, train_y)\n",
    "    \n",
    "    # Use our model to make predictions on testing set\n",
    "    predicted = predict(model, test_x)\n",
    "    \n",
    "    # Calculate weighted mean error\n",
    "    weights = test_x['isHoliday'].replace(True, 5).replace(False, 1)\n",
    "    error = calculate_error(test_y, predicted, weights)\n",
    "    print(error)\n",
    "    \n",
    "    # Accumulate all errors in error_cv\n",
    "    error_cv += error\n",
    "    \n",
    "# Divide by number of folds\n",
    "error_cv /= 5\n",
    "\n",
    "error_cv"
   ]
  },
  {
   "cell_type": "code",
   "execution_count": 24,
   "metadata": {},
   "outputs": [
    {
     "name": "stderr",
     "output_type": "stream",
     "text": [
      "[Parallel(n_jobs=1)]: Using backend SequentialBackend with 1 concurrent workers.\n",
      "[Parallel(n_jobs=1)]: Done 100 out of 100 | elapsed:  1.8min finished\n",
      "[Parallel(n_jobs=1)]: Using backend SequentialBackend with 1 concurrent workers.\n",
      "[Parallel(n_jobs=1)]: Done 100 out of 100 | elapsed:    1.4s finished\n"
     ]
    },
    {
     "name": "stdout",
     "output_type": "stream",
     "text": [
      "2636.1199452075048\n"
     ]
    },
    {
     "name": "stderr",
     "output_type": "stream",
     "text": [
      "[Parallel(n_jobs=1)]: Using backend SequentialBackend with 1 concurrent workers.\n",
      "[Parallel(n_jobs=1)]: Done 100 out of 100 | elapsed:  1.9min finished\n",
      "[Parallel(n_jobs=1)]: Using backend SequentialBackend with 1 concurrent workers.\n",
      "[Parallel(n_jobs=1)]: Done 100 out of 100 | elapsed:    1.5s finished\n"
     ]
    },
    {
     "name": "stdout",
     "output_type": "stream",
     "text": [
      "2630.5754303714925\n"
     ]
    },
    {
     "name": "stderr",
     "output_type": "stream",
     "text": [
      "[Parallel(n_jobs=1)]: Using backend SequentialBackend with 1 concurrent workers.\n",
      "[Parallel(n_jobs=1)]: Done 100 out of 100 | elapsed:  1.8min finished\n",
      "[Parallel(n_jobs=1)]: Using backend SequentialBackend with 1 concurrent workers.\n",
      "[Parallel(n_jobs=1)]: Done 100 out of 100 | elapsed:    1.5s finished\n"
     ]
    },
    {
     "name": "stdout",
     "output_type": "stream",
     "text": [
      "2604.500912551077\n"
     ]
    },
    {
     "name": "stderr",
     "output_type": "stream",
     "text": [
      "[Parallel(n_jobs=1)]: Using backend SequentialBackend with 1 concurrent workers.\n",
      "[Parallel(n_jobs=1)]: Done 100 out of 100 | elapsed:  1.8min finished\n",
      "[Parallel(n_jobs=1)]: Using backend SequentialBackend with 1 concurrent workers.\n",
      "[Parallel(n_jobs=1)]: Done 100 out of 100 | elapsed:    1.5s finished\n"
     ]
    },
    {
     "name": "stdout",
     "output_type": "stream",
     "text": [
      "2586.744692218166\n"
     ]
    },
    {
     "name": "stderr",
     "output_type": "stream",
     "text": [
      "[Parallel(n_jobs=1)]: Using backend SequentialBackend with 1 concurrent workers.\n",
      "[Parallel(n_jobs=1)]: Done 100 out of 100 | elapsed:  1.9min finished\n",
      "[Parallel(n_jobs=1)]: Using backend SequentialBackend with 1 concurrent workers.\n"
     ]
    },
    {
     "name": "stdout",
     "output_type": "stream",
     "text": [
      "2788.499508522456\n"
     ]
    },
    {
     "name": "stderr",
     "output_type": "stream",
     "text": [
      "[Parallel(n_jobs=1)]: Done 100 out of 100 | elapsed:    1.7s finished\n"
     ]
    },
    {
     "data": {
      "text/plain": [
       "2649.2880977741397"
      ]
     },
     "execution_count": 24,
     "metadata": {},
     "output_type": "execute_result"
    }
   ],
   "source": [
    "# Run neural network\n",
    "model_name = RandomForestRegressor(n_estimators=100, max_depth=None, verbose=1)\n",
    "\n",
    "# CV error\n",
    "error_cv = 0\n",
    "\n",
    "# Loop through each possible testing fold\n",
    "for train_index, test_index in kf.split(dataset):\n",
    "    \n",
    "    # Divide dataset according to folds\n",
    "    dataset_train = pd.DataFrame(dataset, index=train_index)\n",
    "    dataset_test = pd.DataFrame(dataset, index=test_index)\n",
    "        \n",
    "    # Obtain input and output matrices\n",
    "    train_y = dataset_train['weeklySales']\n",
    "    train_x = dataset_train.drop(columns=['weeklySales'])\n",
    "    test_y = dataset_test['weeklySales']\n",
    "    test_x = dataset_test.drop(columns=['weeklySales'])\n",
    "    \n",
    "    # Train our model\n",
    "    model = train_model(train_x, train_y)\n",
    "    \n",
    "    # Use our model to make predictions on testing set\n",
    "    predicted = predict(model, test_x)\n",
    "    \n",
    "    # Calculate weighted mean error\n",
    "    weights = test_x['isHoliday'].replace(True, 5).replace(False, 1)\n",
    "    error = calculate_error(test_y, predicted, weights)\n",
    "    print(error)\n",
    "    \n",
    "    # Accumulate all errors in error_cv\n",
    "    error_cv += error\n",
    "    \n",
    "# Divide by number of folds\n",
    "error_cv /= 5\n",
    "\n",
    "error_cv"
   ]
  },
  {
   "cell_type": "markdown",
   "metadata": {},
   "source": [
    "## 6. Make predictions on testing dataset"
   ]
  },
  {
   "cell_type": "code",
   "execution_count": 25,
   "metadata": {},
   "outputs": [
    {
     "data": {
      "text/html": [
       "<div>\n",
       "<style scoped>\n",
       "    .dataframe tbody tr th:only-of-type {\n",
       "        vertical-align: middle;\n",
       "    }\n",
       "\n",
       "    .dataframe tbody tr th {\n",
       "        vertical-align: top;\n",
       "    }\n",
       "\n",
       "    .dataframe thead th {\n",
       "        text-align: right;\n",
       "    }\n",
       "</style>\n",
       "<table border=\"1\" class=\"dataframe\">\n",
       "  <thead>\n",
       "    <tr style=\"text-align: right;\">\n",
       "      <th></th>\n",
       "      <th>Dept</th>\n",
       "      <th>isHoliday</th>\n",
       "      <th>Size</th>\n",
       "      <th>MarkDown1</th>\n",
       "      <th>MarkDown2</th>\n",
       "      <th>MarkDown3</th>\n",
       "      <th>MarkDown4</th>\n",
       "      <th>MarkDown5</th>\n",
       "      <th>Type_A</th>\n",
       "      <th>Month</th>\n",
       "    </tr>\n",
       "  </thead>\n",
       "  <tbody>\n",
       "    <tr>\n",
       "      <th>0</th>\n",
       "      <td>1</td>\n",
       "      <td>False</td>\n",
       "      <td>151315</td>\n",
       "      <td>6766.44</td>\n",
       "      <td>5147.70</td>\n",
       "      <td>50.82</td>\n",
       "      <td>3639.90</td>\n",
       "      <td>2737.42</td>\n",
       "      <td>1</td>\n",
       "      <td>11</td>\n",
       "    </tr>\n",
       "    <tr>\n",
       "      <th>1</th>\n",
       "      <td>1</td>\n",
       "      <td>False</td>\n",
       "      <td>151315</td>\n",
       "      <td>11421.32</td>\n",
       "      <td>3370.89</td>\n",
       "      <td>40.28</td>\n",
       "      <td>4646.79</td>\n",
       "      <td>6154.16</td>\n",
       "      <td>1</td>\n",
       "      <td>11</td>\n",
       "    </tr>\n",
       "    <tr>\n",
       "      <th>2</th>\n",
       "      <td>1</td>\n",
       "      <td>False</td>\n",
       "      <td>151315</td>\n",
       "      <td>9696.28</td>\n",
       "      <td>292.10</td>\n",
       "      <td>103.78</td>\n",
       "      <td>1133.15</td>\n",
       "      <td>6612.69</td>\n",
       "      <td>1</td>\n",
       "      <td>11</td>\n",
       "    </tr>\n",
       "    <tr>\n",
       "      <th>3</th>\n",
       "      <td>1</td>\n",
       "      <td>True</td>\n",
       "      <td>151315</td>\n",
       "      <td>883.59</td>\n",
       "      <td>4.17</td>\n",
       "      <td>74910.32</td>\n",
       "      <td>209.91</td>\n",
       "      <td>303.32</td>\n",
       "      <td>1</td>\n",
       "      <td>11</td>\n",
       "    </tr>\n",
       "    <tr>\n",
       "      <th>4</th>\n",
       "      <td>1</td>\n",
       "      <td>False</td>\n",
       "      <td>151315</td>\n",
       "      <td>2460.03</td>\n",
       "      <td>0.00</td>\n",
       "      <td>3838.35</td>\n",
       "      <td>150.57</td>\n",
       "      <td>6966.34</td>\n",
       "      <td>1</td>\n",
       "      <td>11</td>\n",
       "    </tr>\n",
       "  </tbody>\n",
       "</table>\n",
       "</div>"
      ],
      "text/plain": [
       "   Dept  isHoliday    Size  MarkDown1  MarkDown2  MarkDown3  MarkDown4  \\\n",
       "0     1      False  151315    6766.44    5147.70      50.82    3639.90   \n",
       "1     1      False  151315   11421.32    3370.89      40.28    4646.79   \n",
       "2     1      False  151315    9696.28     292.10     103.78    1133.15   \n",
       "3     1       True  151315     883.59       4.17   74910.32     209.91   \n",
       "4     1      False  151315    2460.03       0.00    3838.35     150.57   \n",
       "\n",
       "   MarkDown5  Type_A  Month  \n",
       "0    2737.42       1     11  \n",
       "1    6154.16       1     11  \n",
       "2    6612.69       1     11  \n",
       "3     303.32       1     11  \n",
       "4    6966.34       1     11  "
      ]
     },
     "execution_count": 25,
     "metadata": {},
     "output_type": "execute_result"
    }
   ],
   "source": [
    "# Test data preprocessing\n",
    "test = pd.read_csv(\"test.csv\", names=['Store','Dept','Date','isHoliday'], sep=',', header=0)\n",
    "stores = pd.read_csv(\"stores.csv\", names=['Store','Type','Size'], sep=',', header=0)\n",
    "\n",
    "#Dropping repeated column 'IsHoliday'\n",
    "features = pd.read_csv(\"features.csv\", names=['Store','Date','Temperature','Fuel_Price','MarkDown1','MarkDown2','MarkDown3','MarkDown4',\n",
    "                              'MarkDown5','CPI','Unemployment','IsHoliday'], sep=',', header=0).drop(columns=['IsHoliday'])\n",
    "\n",
    "#Merging 3 datasets into one\n",
    "test = test.merge(stores, how='left').merge(features, how='left')\n",
    "\n",
    "# Data Manipulation\n",
    "\n",
    "# Creating new columns for each Type of store (Type_A, Type_B, etc.)\n",
    "# Now, we can asign different weights to Types\n",
    "test = pd.get_dummies(test, columns=[\"Type\"])\n",
    "\n",
    "# Changing NaNs in MarkDown Colums to 0s\n",
    "test[['MarkDown1','MarkDown2','MarkDown3','MarkDown4', 'MarkDown5']] = test[['MarkDown1','MarkDown2','MarkDown3','MarkDown4','MarkDown5']].fillna(0)\n",
    "\n",
    "# Converting Date to concrete column Month\n",
    "test['Month'] = pd.to_datetime(test['Date']).dt.month\n",
    "\n",
    "# Now, we do not need Date column\n",
    "test = test.drop(columns=[\"Date\"])\n",
    "\n",
    "# Dropping unnecessary columns\n",
    "test = test.drop(columns=[\"Store\"])\n",
    "test = test.drop(columns=[\"Temperature\"])\n",
    "test = test.drop(columns=[\"Fuel_Price\"])\n",
    "test = test.drop(columns=[\"CPI\"])\n",
    "test = test.drop(columns=[\"Unemployment\"])\n",
    "test = test.drop(columns=[\"Type_B\"])\n",
    "test = test.drop(columns=[\"Type_C\"])\n",
    "\n",
    "test.head()"
   ]
  },
  {
   "cell_type": "code",
   "execution_count": 26,
   "metadata": {},
   "outputs": [
    {
     "name": "stderr",
     "output_type": "stream",
     "text": [
      "[Parallel(n_jobs=1)]: Using backend SequentialBackend with 1 concurrent workers.\n",
      "[Parallel(n_jobs=1)]: Done 100 out of 100 | elapsed:  2.3min finished\n",
      "[Parallel(n_jobs=1)]: Using backend SequentialBackend with 1 concurrent workers.\n",
      "[Parallel(n_jobs=1)]: Done 100 out of 100 | elapsed:    2.0s finished\n"
     ]
    }
   ],
   "source": [
    "# Run best model on whole training set\n",
    "model_name = 'RandomForest'\n",
    "\n",
    "# Obtain input and output matrices\n",
    "train_y = dataset['weeklySales']\n",
    "train_x = dataset.drop(columns=['weeklySales'])\n",
    "    \n",
    "# Train our model\n",
    "model = train_model(train_x, train_y)\n",
    "    \n",
    "# Use our model to make predictions on testing set\n",
    "predicted_test = predict(model, test)"
   ]
  },
  {
   "cell_type": "code",
   "execution_count": 27,
   "metadata": {},
   "outputs": [
    {
     "name": "stderr",
     "output_type": "stream",
     "text": [
      "[Parallel(n_jobs=1)]: Using backend SequentialBackend with 1 concurrent workers.\n",
      "[Parallel(n_jobs=1)]: Done 100 out of 100 | elapsed:    6.0s finished\n"
     ]
    },
    {
     "data": {
      "image/png": "[encoded data removed]",
      "text/plain": [
       "<Figure size 432x288 with 1 Axes>"
      ]
     },
     "metadata": {},
     "output_type": "display_data"
    }
   ],
   "source": [
    "# Get predictions on training dataset\n",
    "dataset2pred = dataset.drop(columns=['weeklySales'])\n",
    "predicted = predict(model, dataset2pred)\n",
    "\n",
    "# Plot actual outputs and our predictions for first 100 examples\n",
    "plt.plot(dataset['weeklySales'][:100], 'bo')\n",
    "plt.plot(np.array(predicted[:100]), 'ro')\n",
    "plt.ylabel('Weekly Sales')\n",
    "plt.xlabel('Indexes')\n",
    "plt.show()"
   ]
  },
  {
   "cell_type": "code",
   "execution_count": 28,
   "metadata": {},
   "outputs": [],
   "source": [
    "# Write the results into submission table\n",
    "\n",
    "# Read testing dataset again (no changes there)\n",
    "test = pd.read_csv(\"test.csv\", names=['Store','Dept','Date','isHoliday'], sep=',', header=0)\n",
    "\n",
    "# Add our output\n",
    "test['Weekly_Sales'] = predicted_test\n",
    "\n",
    "# Frame the table as asked\n",
    "test['Id'] = test['Store'].astype(str) + '_' +  test['Dept'].astype(str) + '_' +  test['Date'].astype(str)\n",
    "test = test[['Id', 'Weekly_Sales']]\n",
    "test.to_csv('output.csv', index=False)"
   ]
  },
  {
   "cell_type": "markdown",
   "metadata": {},
   "source": [
    "Kaggle Submission shows that our score (WMAE) is 6385.58098,\n",
    "which is better than that of literature, where it is 11517.09."
   ]
  }
 ],
 "metadata": {
  "kernelspec": {
   "display_name": "Python 3",
   "language": "python",
   "name": "python3"
  },
  "language_info": {
   "codemirror_mode": {
    "name": "ipython",
    "version": 3
   },
   "file_extension": ".py",
   "mimetype": "text/x-python",
   "name": "python",
   "nbconvert_exporter": "python",
   "pygments_lexer": "ipython3",
   "version": "3.8.3"
  }
 },
 "nbformat": 4,
 "nbformat_minor": 4
}
